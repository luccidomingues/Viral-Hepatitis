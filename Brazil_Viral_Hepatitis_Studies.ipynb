{
  "nbformat": 4,
  "nbformat_minor": 0,
  "metadata": {
    "colab": {
      "name": "Brazil Viral Hepatitis Studies.ipynb",
      "provenance": [],
      "collapsed_sections": [
        "0mdOFrHr28RY"
      ],
      "include_colab_link": true
    },
    "kernelspec": {
      "display_name": "Python 3",
      "name": "python3"
    },
    "language_info": {
      "name": "python"
    }
  },
  "cells": [
    {
      "cell_type": "markdown",
      "metadata": {
        "id": "view-in-github",
        "colab_type": "text"
      },
      "source": [
        "<a href=\"https://colab.research.google.com/github/luccidomingues/Viral-Hepatitis/blob/main/Brazil_Viral_Hepatitis_Studies.ipynb\" target=\"_parent\"><img src=\"https://colab.research.google.com/assets/colab-badge.svg\" alt=\"Open In Colab\"/></a>"
      ]
    },
    {
      "cell_type": "markdown",
      "metadata": {
        "id": "OOIgH0RO0nNa"
      },
      "source": [
        "# Análise bases hepatite viral datasus\n",
        "\n",
        "**Foco: Hepatite C**\n",
        "\n",
        "- Planejamento do mês\n",
        "\n",
        "https://docs.google.com/document/d/1aQ_Goz2jlIkaNWkTfv9XWtdR2bT192dygeMIT_DBBLw/edit\n",
        "\n",
        "- Links das bases\n",
        "\n",
        "http://tabnet.datasus.gov.br/cgi/deftohtm.exe?sinannet/cnv/hepabr.def\n",
        "\n",
        "http://tabnet.datasus.gov.br/cgi/deftohtm.exe?sim/cnv/obt10uf.def\n"
      ]
    },
    {
      "cell_type": "markdown",
      "metadata": {
        "id": "lHfPc39n1AfS"
      },
      "source": [
        "## Análise exploratória"
      ]
    },
    {
      "cell_type": "markdown",
      "metadata": {
        "id": "04z5dzmyKDSh"
      },
      "source": [
        "**Autores:**\n",
        "- Luciano Domingues"
      ]
    },
    {
      "cell_type": "markdown",
      "metadata": {
        "id": "5DH-3_y009FK"
      },
      "source": [
        "### Bibliotecas"
      ]
    },
    {
      "cell_type": "code",
      "metadata": {
        "id": "IprFzZ64-I5P"
      },
      "source": [
        "# Bibliotecas\n",
        "import pandas as pd\n",
        "import matplotlib.pyplot as plt\n",
        "import seaborn as sns\n",
        "import numpy as np"
      ],
      "execution_count": null,
      "outputs": []
    },
    {
      "cell_type": "markdown",
      "metadata": {
        "id": "qFBHj1-K1EuE"
      },
      "source": [
        "### Montar drive"
      ]
    },
    {
      "cell_type": "code",
      "metadata": {
        "colab": {
          "base_uri": "https://localhost:8080/"
        },
        "id": "tGUedXhOyaem",
        "outputId": "51a23040-5794-4ffa-a689-3f8d5b304645"
      },
      "source": [
        "from google.colab import drive\n",
        "drive.mount('/content/drive')"
      ],
      "execution_count": null,
      "outputs": [
        {
          "output_type": "stream",
          "text": [
            "Drive already mounted at /content/drive; to attempt to forcibly remount, call drive.mount(\"/content/drive\", force_remount=True).\n"
          ],
          "name": "stdout"
        }
      ]
    },
    {
      "cell_type": "markdown",
      "metadata": {
        "id": "exsdOTtr25G9"
      },
      "source": [
        "### Diretórios"
      ]
    },
    {
      "cell_type": "code",
      "metadata": {
        "colab": {
          "base_uri": "https://localhost:8080/"
        },
        "id": "1n0U9rgxzlel",
        "outputId": "f86deb29-036c-40fc-9b71-86bb0ba2de2b"
      },
      "source": [
        "%ls /content/drive/Shareddrives/'PJE - Health Lake'/'[Time] Ciência'/Projetos/'Cronograma Ciência'/'06 - Análise de Julho'/Bases/'HEPATITES Dados de Todos Municipios'/"
      ],
      "execution_count": null,
      "outputs": [
        {
          "output_type": "stream",
          "text": [
            "ls: cannot access '/content/drive/Shareddrives/PJE - Health Lake/[Time] Ciência/Projetos/Cronograma Ciência/06 - Análise de Julho/Bases/HEPATITES Dados de Todos Municipios/': No such file or directory\n"
          ],
          "name": "stdout"
        }
      ]
    },
    {
      "cell_type": "code",
      "metadata": {
        "colab": {
          "base_uri": "https://localhost:8080/",
          "height": 54
        },
        "id": "qyCTJ6cu1qYF",
        "outputId": "daf6ddb0-e223-454e-c181-45c9ae47d426"
      },
      "source": [
        "path_arquivo = \"/content/drive/Shareddrives/'PJE - Health Lake'/'[Time] Ciência'/Projetos/'Cronograma Ciência'/'06 - Análise de Julho'/Bases/'HEPATITES Dados de Todos Municipios'/\"\n",
        "path_arquivo"
      ],
      "execution_count": null,
      "outputs": [
        {
          "output_type": "execute_result",
          "data": {
            "application/vnd.google.colaboratory.intrinsic+json": {
              "type": "string"
            },
            "text/plain": [
              "\"/content/drive/Shareddrives/'PJE - Health Lake'/'[Time] Ciência'/Projetos/'Cronograma Ciência'/'06 - Análise de Julho'/Bases/'HEPATITES Dados de Todos Municipios'/\""
            ]
          },
          "metadata": {
            "tags": []
          },
          "execution_count": 4
        }
      ]
    },
    {
      "cell_type": "code",
      "metadata": {
        "colab": {
          "base_uri": "https://localhost:8080/",
          "height": 54
        },
        "id": "-2O_LgiJ2btT",
        "outputId": "e5656cd6-2a68-4938-9793-a5ef98a12df4"
      },
      "source": [
        "path_arquivo + \"'Baixar dados de todos os municípios - HEPATITES.xlsx'\""
      ],
      "execution_count": null,
      "outputs": [
        {
          "output_type": "execute_result",
          "data": {
            "application/vnd.google.colaboratory.intrinsic+json": {
              "type": "string"
            },
            "text/plain": [
              "\"/content/drive/Shareddrives/'PJE - Health Lake'/'[Time] Ciência'/Projetos/'Cronograma Ciência'/'06 - Análise de Julho'/Bases/'HEPATITES Dados de Todos Municipios'/'Baixar dados de todos os municípios - HEPATITES.xlsx'\""
            ]
          },
          "metadata": {
            "tags": []
          },
          "execution_count": 5
        }
      ]
    },
    {
      "cell_type": "code",
      "metadata": {
        "colab": {
          "base_uri": "https://localhost:8080/"
        },
        "id": "y1v9AaMT0Pz3",
        "outputId": "38c8ea30-0724-4e6a-87b1-bd960c90a7f6"
      },
      "source": [
        "%cd /content/drive/Shareddrives/'PJE - Health Lake'/'[Time] Ciência'/Projetos/'Cronograma Ciência'/'06 - Análise de Julho'/Bases/'HEPATITES Dados de Todos Municipios'/"
      ],
      "execution_count": null,
      "outputs": [
        {
          "output_type": "stream",
          "text": [
            "[Errno 2] No such file or directory: '/content/drive/Shareddrives/PJE - Health Lake/[Time] Ciência/Projetos/Cronograma Ciência/06 - Análise de Julho/Bases/HEPATITES Dados de Todos Municipios/'\n",
            "/content\n"
          ],
          "name": "stdout"
        }
      ]
    },
    {
      "cell_type": "markdown",
      "metadata": {
        "id": "0mdOFrHr28RY"
      },
      "source": [
        "### Bases"
      ]
    },
    {
      "cell_type": "markdown",
      "metadata": {
        "id": "W8idN2KF7dKJ"
      },
      "source": [
        "### Ler arquivos Excel\n",
        "https://pandas.pydata.org/pandas-docs/stable/reference/api/pandas.read_excel.html"
      ]
    },
    {
      "cell_type": "markdown",
      "metadata": {
        "id": "4AACyo2kF6Al"
      },
      "source": [
        "#### Número de casos de Hepatite C"
      ]
    },
    {
      "cell_type": "code",
      "metadata": {
        "colab": {
          "base_uri": "https://localhost:8080/",
          "height": 494
        },
        "id": "eo4ziZEJ7fS6",
        "outputId": "beaa5893-4b5a-41c9-9e71-8c0de3cb252f"
      },
      "source": [
        "# lista_colunas = ['Hep C Novo 2008',\t'Hep C Novo 2009', 'Hep C Novo 2010', 'Hep C Novo 2011', 'Hep C Novo 2012', \\\n",
        "#                 'Hep C Novo 2013', 'Hep C Novo 2014', 'Hep C Novo 2015', 'Hep C Novo 2016', 'Hep C Novo 2017', \\\n",
        "#                 'Hep C Novo 2018', 'Hep C Novo 2019', 'Hep C Novo 2020']\n",
        "index_cols = \"C,F:R\"\n",
        "\n",
        "\n",
        "dados_hepc = pd.read_excel(open('Baixar dados de todos os municípios - HEPATITES.xlsx', 'rb'), sheet_name='DADOS CONTINUAÇÃO 1', usecols=index_cols) \n",
        "                         \n",
        "dados_hepc.columns = ['Local', 'Hep_C_2008', 'Hep_C_2009', 'Hep_C_2010', 'Hep_C_2011', 'Hep_C_2012', \\\n",
        "                 'Hep_C_2013', 'Hep_C_2014', 'Hep_C_2015', 'Hep_C_2016', 'Hep_C_2017', \\\n",
        "                 'Hep_C_2018', 'Hep_C_2019', 'Hep_C_2020']\n",
        "\n",
        "dados_hepc"
      ],
      "execution_count": null,
      "outputs": [
        {
          "output_type": "execute_result",
          "data": {
            "text/html": [
              "<div>\n",
              "<style scoped>\n",
              "    .dataframe tbody tr th:only-of-type {\n",
              "        vertical-align: middle;\n",
              "    }\n",
              "\n",
              "    .dataframe tbody tr th {\n",
              "        vertical-align: top;\n",
              "    }\n",
              "\n",
              "    .dataframe thead th {\n",
              "        text-align: right;\n",
              "    }\n",
              "</style>\n",
              "<table border=\"1\" class=\"dataframe\">\n",
              "  <thead>\n",
              "    <tr style=\"text-align: right;\">\n",
              "      <th></th>\n",
              "      <th>Local</th>\n",
              "      <th>Hep_C_2008</th>\n",
              "      <th>Hep_C_2009</th>\n",
              "      <th>Hep_C_2010</th>\n",
              "      <th>Hep_C_2011</th>\n",
              "      <th>Hep_C_2012</th>\n",
              "      <th>Hep_C_2013</th>\n",
              "      <th>Hep_C_2014</th>\n",
              "      <th>Hep_C_2015</th>\n",
              "      <th>Hep_C_2016</th>\n",
              "      <th>Hep_C_2017</th>\n",
              "      <th>Hep_C_2018</th>\n",
              "      <th>Hep_C_2019</th>\n",
              "      <th>Hep_C_2020</th>\n",
              "    </tr>\n",
              "  </thead>\n",
              "  <tbody>\n",
              "    <tr>\n",
              "      <th>0</th>\n",
              "      <td>Alta Floresta D'Oeste</td>\n",
              "      <td>0</td>\n",
              "      <td>0</td>\n",
              "      <td>0</td>\n",
              "      <td>0</td>\n",
              "      <td>2</td>\n",
              "      <td>2</td>\n",
              "      <td>1</td>\n",
              "      <td>0</td>\n",
              "      <td>1</td>\n",
              "      <td>0</td>\n",
              "      <td>3</td>\n",
              "      <td>3</td>\n",
              "      <td>0</td>\n",
              "    </tr>\n",
              "    <tr>\n",
              "      <th>1</th>\n",
              "      <td>Ariquemes</td>\n",
              "      <td>22</td>\n",
              "      <td>10</td>\n",
              "      <td>10</td>\n",
              "      <td>3</td>\n",
              "      <td>18</td>\n",
              "      <td>15</td>\n",
              "      <td>9</td>\n",
              "      <td>15</td>\n",
              "      <td>9</td>\n",
              "      <td>9</td>\n",
              "      <td>4</td>\n",
              "      <td>2</td>\n",
              "      <td>3</td>\n",
              "    </tr>\n",
              "    <tr>\n",
              "      <th>2</th>\n",
              "      <td>Cabixi</td>\n",
              "      <td>0</td>\n",
              "      <td>0</td>\n",
              "      <td>0</td>\n",
              "      <td>0</td>\n",
              "      <td>0</td>\n",
              "      <td>0</td>\n",
              "      <td>0</td>\n",
              "      <td>1</td>\n",
              "      <td>0</td>\n",
              "      <td>0</td>\n",
              "      <td>0</td>\n",
              "      <td>0</td>\n",
              "      <td>0</td>\n",
              "    </tr>\n",
              "    <tr>\n",
              "      <th>3</th>\n",
              "      <td>Cacoal</td>\n",
              "      <td>4</td>\n",
              "      <td>1</td>\n",
              "      <td>7</td>\n",
              "      <td>7</td>\n",
              "      <td>8</td>\n",
              "      <td>4</td>\n",
              "      <td>5</td>\n",
              "      <td>9</td>\n",
              "      <td>15</td>\n",
              "      <td>17</td>\n",
              "      <td>9</td>\n",
              "      <td>4</td>\n",
              "      <td>3</td>\n",
              "    </tr>\n",
              "    <tr>\n",
              "      <th>4</th>\n",
              "      <td>Cerejeiras</td>\n",
              "      <td>0</td>\n",
              "      <td>2</td>\n",
              "      <td>2</td>\n",
              "      <td>2</td>\n",
              "      <td>1</td>\n",
              "      <td>1</td>\n",
              "      <td>0</td>\n",
              "      <td>1</td>\n",
              "      <td>1</td>\n",
              "      <td>1</td>\n",
              "      <td>0</td>\n",
              "      <td>0</td>\n",
              "      <td>0</td>\n",
              "    </tr>\n",
              "    <tr>\n",
              "      <th>...</th>\n",
              "      <td>...</td>\n",
              "      <td>...</td>\n",
              "      <td>...</td>\n",
              "      <td>...</td>\n",
              "      <td>...</td>\n",
              "      <td>...</td>\n",
              "      <td>...</td>\n",
              "      <td>...</td>\n",
              "      <td>...</td>\n",
              "      <td>...</td>\n",
              "      <td>...</td>\n",
              "      <td>...</td>\n",
              "      <td>...</td>\n",
              "      <td>...</td>\n",
              "    </tr>\n",
              "    <tr>\n",
              "      <th>5652</th>\n",
              "      <td>Nordeste</td>\n",
              "      <td>1377</td>\n",
              "      <td>1480</td>\n",
              "      <td>1394</td>\n",
              "      <td>1725</td>\n",
              "      <td>1702</td>\n",
              "      <td>1652</td>\n",
              "      <td>1543</td>\n",
              "      <td>1681</td>\n",
              "      <td>1586</td>\n",
              "      <td>1766</td>\n",
              "      <td>2059</td>\n",
              "      <td>1715</td>\n",
              "      <td>647</td>\n",
              "    </tr>\n",
              "    <tr>\n",
              "      <th>5653</th>\n",
              "      <td>Sudeste</td>\n",
              "      <td>12032</td>\n",
              "      <td>12663</td>\n",
              "      <td>12563</td>\n",
              "      <td>14485</td>\n",
              "      <td>14466</td>\n",
              "      <td>13163</td>\n",
              "      <td>12098</td>\n",
              "      <td>13521</td>\n",
              "      <td>13450</td>\n",
              "      <td>12798</td>\n",
              "      <td>13021</td>\n",
              "      <td>10558</td>\n",
              "      <td>4005</td>\n",
              "    </tr>\n",
              "    <tr>\n",
              "      <th>5654</th>\n",
              "      <td>Sul</td>\n",
              "      <td>5384</td>\n",
              "      <td>5512</td>\n",
              "      <td>5554</td>\n",
              "      <td>6230</td>\n",
              "      <td>6824</td>\n",
              "      <td>6835</td>\n",
              "      <td>7650</td>\n",
              "      <td>8236</td>\n",
              "      <td>7919</td>\n",
              "      <td>7204</td>\n",
              "      <td>7394</td>\n",
              "      <td>6948</td>\n",
              "      <td>3663</td>\n",
              "    </tr>\n",
              "    <tr>\n",
              "      <th>5655</th>\n",
              "      <td>Centro-Oeste</td>\n",
              "      <td>931</td>\n",
              "      <td>1080</td>\n",
              "      <td>839</td>\n",
              "      <td>993</td>\n",
              "      <td>1034</td>\n",
              "      <td>1047</td>\n",
              "      <td>948</td>\n",
              "      <td>951</td>\n",
              "      <td>1124</td>\n",
              "      <td>1015</td>\n",
              "      <td>917</td>\n",
              "      <td>917</td>\n",
              "      <td>489</td>\n",
              "    </tr>\n",
              "    <tr>\n",
              "      <th>5656</th>\n",
              "      <td>Brasil</td>\n",
              "      <td>20340</td>\n",
              "      <td>21596</td>\n",
              "      <td>21291</td>\n",
              "      <td>24428</td>\n",
              "      <td>24934</td>\n",
              "      <td>24065</td>\n",
              "      <td>23362</td>\n",
              "      <td>25421</td>\n",
              "      <td>25138</td>\n",
              "      <td>23933</td>\n",
              "      <td>24528</td>\n",
              "      <td>21193</td>\n",
              "      <td>9286</td>\n",
              "    </tr>\n",
              "  </tbody>\n",
              "</table>\n",
              "<p>5657 rows × 14 columns</p>\n",
              "</div>"
            ],
            "text/plain": [
              "                      Local  Hep_C_2008  ...  Hep_C_2019  Hep_C_2020\n",
              "0     Alta Floresta D'Oeste           0  ...           3           0\n",
              "1                 Ariquemes          22  ...           2           3\n",
              "2                    Cabixi           0  ...           0           0\n",
              "3                    Cacoal           4  ...           4           3\n",
              "4                Cerejeiras           0  ...           0           0\n",
              "...                     ...         ...  ...         ...         ...\n",
              "5652               Nordeste        1377  ...        1715         647\n",
              "5653                Sudeste       12032  ...       10558        4005\n",
              "5654                    Sul        5384  ...        6948        3663\n",
              "5655           Centro-Oeste         931  ...         917         489\n",
              "5656                 Brasil       20340  ...       21193        9286\n",
              "\n",
              "[5657 rows x 14 columns]"
            ]
          },
          "metadata": {
            "tags": []
          },
          "execution_count": 7
        }
      ]
    },
    {
      "cell_type": "markdown",
      "metadata": {
        "id": "T8PQUcaFExfE"
      },
      "source": [
        "### Processando tabelas de casos de Hepatite C"
      ]
    },
    {
      "cell_type": "markdown",
      "metadata": {
        "id": "KUjcpbprEuY0"
      },
      "source": [
        "#### Dados por região"
      ]
    },
    {
      "cell_type": "code",
      "metadata": {
        "colab": {
          "base_uri": "https://localhost:8080/",
          "height": 243
        },
        "id": "9dbIfxbfBg6d",
        "outputId": "f6230d0b-9489-4cfc-a3b0-697c8216b14f"
      },
      "source": [
        "dados_regiao_casos = dados_hepc.iloc[5651:5656]\n",
        "dados_regiao_casos"
      ],
      "execution_count": null,
      "outputs": [
        {
          "output_type": "execute_result",
          "data": {
            "text/html": [
              "<div>\n",
              "<style scoped>\n",
              "    .dataframe tbody tr th:only-of-type {\n",
              "        vertical-align: middle;\n",
              "    }\n",
              "\n",
              "    .dataframe tbody tr th {\n",
              "        vertical-align: top;\n",
              "    }\n",
              "\n",
              "    .dataframe thead th {\n",
              "        text-align: right;\n",
              "    }\n",
              "</style>\n",
              "<table border=\"1\" class=\"dataframe\">\n",
              "  <thead>\n",
              "    <tr style=\"text-align: right;\">\n",
              "      <th></th>\n",
              "      <th>Local</th>\n",
              "      <th>Hep_C_2008</th>\n",
              "      <th>Hep_C_2009</th>\n",
              "      <th>Hep_C_2010</th>\n",
              "      <th>Hep_C_2011</th>\n",
              "      <th>Hep_C_2012</th>\n",
              "      <th>Hep_C_2013</th>\n",
              "      <th>Hep_C_2014</th>\n",
              "      <th>Hep_C_2015</th>\n",
              "      <th>Hep_C_2016</th>\n",
              "      <th>Hep_C_2017</th>\n",
              "      <th>Hep_C_2018</th>\n",
              "      <th>Hep_C_2019</th>\n",
              "      <th>Hep_C_2020</th>\n",
              "    </tr>\n",
              "  </thead>\n",
              "  <tbody>\n",
              "    <tr>\n",
              "      <th>5651</th>\n",
              "      <td>Norte</td>\n",
              "      <td>614</td>\n",
              "      <td>860</td>\n",
              "      <td>941</td>\n",
              "      <td>995</td>\n",
              "      <td>908</td>\n",
              "      <td>1364</td>\n",
              "      <td>1123</td>\n",
              "      <td>1029</td>\n",
              "      <td>1057</td>\n",
              "      <td>1148</td>\n",
              "      <td>1134</td>\n",
              "      <td>1055</td>\n",
              "      <td>482</td>\n",
              "    </tr>\n",
              "    <tr>\n",
              "      <th>5652</th>\n",
              "      <td>Nordeste</td>\n",
              "      <td>1377</td>\n",
              "      <td>1480</td>\n",
              "      <td>1394</td>\n",
              "      <td>1725</td>\n",
              "      <td>1702</td>\n",
              "      <td>1652</td>\n",
              "      <td>1543</td>\n",
              "      <td>1681</td>\n",
              "      <td>1586</td>\n",
              "      <td>1766</td>\n",
              "      <td>2059</td>\n",
              "      <td>1715</td>\n",
              "      <td>647</td>\n",
              "    </tr>\n",
              "    <tr>\n",
              "      <th>5653</th>\n",
              "      <td>Sudeste</td>\n",
              "      <td>12032</td>\n",
              "      <td>12663</td>\n",
              "      <td>12563</td>\n",
              "      <td>14485</td>\n",
              "      <td>14466</td>\n",
              "      <td>13163</td>\n",
              "      <td>12098</td>\n",
              "      <td>13521</td>\n",
              "      <td>13450</td>\n",
              "      <td>12798</td>\n",
              "      <td>13021</td>\n",
              "      <td>10558</td>\n",
              "      <td>4005</td>\n",
              "    </tr>\n",
              "    <tr>\n",
              "      <th>5654</th>\n",
              "      <td>Sul</td>\n",
              "      <td>5384</td>\n",
              "      <td>5512</td>\n",
              "      <td>5554</td>\n",
              "      <td>6230</td>\n",
              "      <td>6824</td>\n",
              "      <td>6835</td>\n",
              "      <td>7650</td>\n",
              "      <td>8236</td>\n",
              "      <td>7919</td>\n",
              "      <td>7204</td>\n",
              "      <td>7394</td>\n",
              "      <td>6948</td>\n",
              "      <td>3663</td>\n",
              "    </tr>\n",
              "    <tr>\n",
              "      <th>5655</th>\n",
              "      <td>Centro-Oeste</td>\n",
              "      <td>931</td>\n",
              "      <td>1080</td>\n",
              "      <td>839</td>\n",
              "      <td>993</td>\n",
              "      <td>1034</td>\n",
              "      <td>1047</td>\n",
              "      <td>948</td>\n",
              "      <td>951</td>\n",
              "      <td>1124</td>\n",
              "      <td>1015</td>\n",
              "      <td>917</td>\n",
              "      <td>917</td>\n",
              "      <td>489</td>\n",
              "    </tr>\n",
              "  </tbody>\n",
              "</table>\n",
              "</div>"
            ],
            "text/plain": [
              "             Local  Hep_C_2008  Hep_C_2009  ...  Hep_C_2018  Hep_C_2019  Hep_C_2020\n",
              "5651         Norte         614         860  ...        1134        1055         482\n",
              "5652      Nordeste        1377        1480  ...        2059        1715         647\n",
              "5653       Sudeste       12032       12663  ...       13021       10558        4005\n",
              "5654           Sul        5384        5512  ...        7394        6948        3663\n",
              "5655  Centro-Oeste         931        1080  ...         917         917         489\n",
              "\n",
              "[5 rows x 14 columns]"
            ]
          },
          "metadata": {
            "tags": []
          },
          "execution_count": 8
        }
      ]
    },
    {
      "cell_type": "code",
      "metadata": {
        "colab": {
          "base_uri": "https://localhost:8080/",
          "height": 236
        },
        "id": "AStqTy4b5jfz",
        "outputId": "d7651631-e51d-43dc-ad3f-2feaf7b84a0c"
      },
      "source": [
        "dados_regiao_casos = dados_regiao_casos.set_index('Local')\n",
        "dados_regiao_casos.columns = list(range(2008,2021))\n",
        "dados_regiao_casos"
      ],
      "execution_count": null,
      "outputs": [
        {
          "output_type": "execute_result",
          "data": {
            "text/html": [
              "<div>\n",
              "<style scoped>\n",
              "    .dataframe tbody tr th:only-of-type {\n",
              "        vertical-align: middle;\n",
              "    }\n",
              "\n",
              "    .dataframe tbody tr th {\n",
              "        vertical-align: top;\n",
              "    }\n",
              "\n",
              "    .dataframe thead th {\n",
              "        text-align: right;\n",
              "    }\n",
              "</style>\n",
              "<table border=\"1\" class=\"dataframe\">\n",
              "  <thead>\n",
              "    <tr style=\"text-align: right;\">\n",
              "      <th></th>\n",
              "      <th>2008</th>\n",
              "      <th>2009</th>\n",
              "      <th>2010</th>\n",
              "      <th>2011</th>\n",
              "      <th>2012</th>\n",
              "      <th>2013</th>\n",
              "      <th>2014</th>\n",
              "      <th>2015</th>\n",
              "      <th>2016</th>\n",
              "      <th>2017</th>\n",
              "      <th>2018</th>\n",
              "      <th>2019</th>\n",
              "      <th>2020</th>\n",
              "    </tr>\n",
              "    <tr>\n",
              "      <th>Local</th>\n",
              "      <th></th>\n",
              "      <th></th>\n",
              "      <th></th>\n",
              "      <th></th>\n",
              "      <th></th>\n",
              "      <th></th>\n",
              "      <th></th>\n",
              "      <th></th>\n",
              "      <th></th>\n",
              "      <th></th>\n",
              "      <th></th>\n",
              "      <th></th>\n",
              "      <th></th>\n",
              "    </tr>\n",
              "  </thead>\n",
              "  <tbody>\n",
              "    <tr>\n",
              "      <th>Norte</th>\n",
              "      <td>614</td>\n",
              "      <td>860</td>\n",
              "      <td>941</td>\n",
              "      <td>995</td>\n",
              "      <td>908</td>\n",
              "      <td>1364</td>\n",
              "      <td>1123</td>\n",
              "      <td>1029</td>\n",
              "      <td>1057</td>\n",
              "      <td>1148</td>\n",
              "      <td>1134</td>\n",
              "      <td>1055</td>\n",
              "      <td>482</td>\n",
              "    </tr>\n",
              "    <tr>\n",
              "      <th>Nordeste</th>\n",
              "      <td>1377</td>\n",
              "      <td>1480</td>\n",
              "      <td>1394</td>\n",
              "      <td>1725</td>\n",
              "      <td>1702</td>\n",
              "      <td>1652</td>\n",
              "      <td>1543</td>\n",
              "      <td>1681</td>\n",
              "      <td>1586</td>\n",
              "      <td>1766</td>\n",
              "      <td>2059</td>\n",
              "      <td>1715</td>\n",
              "      <td>647</td>\n",
              "    </tr>\n",
              "    <tr>\n",
              "      <th>Sudeste</th>\n",
              "      <td>12032</td>\n",
              "      <td>12663</td>\n",
              "      <td>12563</td>\n",
              "      <td>14485</td>\n",
              "      <td>14466</td>\n",
              "      <td>13163</td>\n",
              "      <td>12098</td>\n",
              "      <td>13521</td>\n",
              "      <td>13450</td>\n",
              "      <td>12798</td>\n",
              "      <td>13021</td>\n",
              "      <td>10558</td>\n",
              "      <td>4005</td>\n",
              "    </tr>\n",
              "    <tr>\n",
              "      <th>Sul</th>\n",
              "      <td>5384</td>\n",
              "      <td>5512</td>\n",
              "      <td>5554</td>\n",
              "      <td>6230</td>\n",
              "      <td>6824</td>\n",
              "      <td>6835</td>\n",
              "      <td>7650</td>\n",
              "      <td>8236</td>\n",
              "      <td>7919</td>\n",
              "      <td>7204</td>\n",
              "      <td>7394</td>\n",
              "      <td>6948</td>\n",
              "      <td>3663</td>\n",
              "    </tr>\n",
              "    <tr>\n",
              "      <th>Centro-Oeste</th>\n",
              "      <td>931</td>\n",
              "      <td>1080</td>\n",
              "      <td>839</td>\n",
              "      <td>993</td>\n",
              "      <td>1034</td>\n",
              "      <td>1047</td>\n",
              "      <td>948</td>\n",
              "      <td>951</td>\n",
              "      <td>1124</td>\n",
              "      <td>1015</td>\n",
              "      <td>917</td>\n",
              "      <td>917</td>\n",
              "      <td>489</td>\n",
              "    </tr>\n",
              "  </tbody>\n",
              "</table>\n",
              "</div>"
            ],
            "text/plain": [
              "               2008   2009   2010   2011  ...   2017   2018   2019  2020\n",
              "Local                                     ...                           \n",
              "Norte           614    860    941    995  ...   1148   1134   1055   482\n",
              "Nordeste       1377   1480   1394   1725  ...   1766   2059   1715   647\n",
              "Sudeste       12032  12663  12563  14485  ...  12798  13021  10558  4005\n",
              "Sul            5384   5512   5554   6230  ...   7204   7394   6948  3663\n",
              "Centro-Oeste    931   1080    839    993  ...   1015    917    917   489\n",
              "\n",
              "[5 rows x 13 columns]"
            ]
          },
          "metadata": {
            "tags": []
          },
          "execution_count": 9
        }
      ]
    },
    {
      "cell_type": "code",
      "metadata": {
        "colab": {
          "base_uri": "https://localhost:8080/",
          "height": 455
        },
        "id": "j9qrePU1CGZz",
        "outputId": "e82f143f-f068-42fc-ad16-ae0ed1da6157"
      },
      "source": [
        "dados_regiao_casos2 = dados_regiao_casos.T\n",
        "dados_regiao_casos2"
      ],
      "execution_count": null,
      "outputs": [
        {
          "output_type": "execute_result",
          "data": {
            "text/html": [
              "<div>\n",
              "<style scoped>\n",
              "    .dataframe tbody tr th:only-of-type {\n",
              "        vertical-align: middle;\n",
              "    }\n",
              "\n",
              "    .dataframe tbody tr th {\n",
              "        vertical-align: top;\n",
              "    }\n",
              "\n",
              "    .dataframe thead th {\n",
              "        text-align: right;\n",
              "    }\n",
              "</style>\n",
              "<table border=\"1\" class=\"dataframe\">\n",
              "  <thead>\n",
              "    <tr style=\"text-align: right;\">\n",
              "      <th>Local</th>\n",
              "      <th>Norte</th>\n",
              "      <th>Nordeste</th>\n",
              "      <th>Sudeste</th>\n",
              "      <th>Sul</th>\n",
              "      <th>Centro-Oeste</th>\n",
              "    </tr>\n",
              "  </thead>\n",
              "  <tbody>\n",
              "    <tr>\n",
              "      <th>2008</th>\n",
              "      <td>614</td>\n",
              "      <td>1377</td>\n",
              "      <td>12032</td>\n",
              "      <td>5384</td>\n",
              "      <td>931</td>\n",
              "    </tr>\n",
              "    <tr>\n",
              "      <th>2009</th>\n",
              "      <td>860</td>\n",
              "      <td>1480</td>\n",
              "      <td>12663</td>\n",
              "      <td>5512</td>\n",
              "      <td>1080</td>\n",
              "    </tr>\n",
              "    <tr>\n",
              "      <th>2010</th>\n",
              "      <td>941</td>\n",
              "      <td>1394</td>\n",
              "      <td>12563</td>\n",
              "      <td>5554</td>\n",
              "      <td>839</td>\n",
              "    </tr>\n",
              "    <tr>\n",
              "      <th>2011</th>\n",
              "      <td>995</td>\n",
              "      <td>1725</td>\n",
              "      <td>14485</td>\n",
              "      <td>6230</td>\n",
              "      <td>993</td>\n",
              "    </tr>\n",
              "    <tr>\n",
              "      <th>2012</th>\n",
              "      <td>908</td>\n",
              "      <td>1702</td>\n",
              "      <td>14466</td>\n",
              "      <td>6824</td>\n",
              "      <td>1034</td>\n",
              "    </tr>\n",
              "    <tr>\n",
              "      <th>2013</th>\n",
              "      <td>1364</td>\n",
              "      <td>1652</td>\n",
              "      <td>13163</td>\n",
              "      <td>6835</td>\n",
              "      <td>1047</td>\n",
              "    </tr>\n",
              "    <tr>\n",
              "      <th>2014</th>\n",
              "      <td>1123</td>\n",
              "      <td>1543</td>\n",
              "      <td>12098</td>\n",
              "      <td>7650</td>\n",
              "      <td>948</td>\n",
              "    </tr>\n",
              "    <tr>\n",
              "      <th>2015</th>\n",
              "      <td>1029</td>\n",
              "      <td>1681</td>\n",
              "      <td>13521</td>\n",
              "      <td>8236</td>\n",
              "      <td>951</td>\n",
              "    </tr>\n",
              "    <tr>\n",
              "      <th>2016</th>\n",
              "      <td>1057</td>\n",
              "      <td>1586</td>\n",
              "      <td>13450</td>\n",
              "      <td>7919</td>\n",
              "      <td>1124</td>\n",
              "    </tr>\n",
              "    <tr>\n",
              "      <th>2017</th>\n",
              "      <td>1148</td>\n",
              "      <td>1766</td>\n",
              "      <td>12798</td>\n",
              "      <td>7204</td>\n",
              "      <td>1015</td>\n",
              "    </tr>\n",
              "    <tr>\n",
              "      <th>2018</th>\n",
              "      <td>1134</td>\n",
              "      <td>2059</td>\n",
              "      <td>13021</td>\n",
              "      <td>7394</td>\n",
              "      <td>917</td>\n",
              "    </tr>\n",
              "    <tr>\n",
              "      <th>2019</th>\n",
              "      <td>1055</td>\n",
              "      <td>1715</td>\n",
              "      <td>10558</td>\n",
              "      <td>6948</td>\n",
              "      <td>917</td>\n",
              "    </tr>\n",
              "    <tr>\n",
              "      <th>2020</th>\n",
              "      <td>482</td>\n",
              "      <td>647</td>\n",
              "      <td>4005</td>\n",
              "      <td>3663</td>\n",
              "      <td>489</td>\n",
              "    </tr>\n",
              "  </tbody>\n",
              "</table>\n",
              "</div>"
            ],
            "text/plain": [
              "Local  Norte  Nordeste  Sudeste   Sul  Centro-Oeste\n",
              "2008     614      1377    12032  5384           931\n",
              "2009     860      1480    12663  5512          1080\n",
              "2010     941      1394    12563  5554           839\n",
              "2011     995      1725    14485  6230           993\n",
              "2012     908      1702    14466  6824          1034\n",
              "2013    1364      1652    13163  6835          1047\n",
              "2014    1123      1543    12098  7650           948\n",
              "2015    1029      1681    13521  8236           951\n",
              "2016    1057      1586    13450  7919          1124\n",
              "2017    1148      1766    12798  7204          1015\n",
              "2018    1134      2059    13021  7394           917\n",
              "2019    1055      1715    10558  6948           917\n",
              "2020     482       647     4005  3663           489"
            ]
          },
          "metadata": {
            "tags": []
          },
          "execution_count": 10
        }
      ]
    },
    {
      "cell_type": "markdown",
      "metadata": {
        "id": "nBZF9a1cCCCt"
      },
      "source": [
        "#### Dados por Estado"
      ]
    },
    {
      "cell_type": "code",
      "metadata": {
        "colab": {
          "base_uri": "https://localhost:8080/",
          "height": 893
        },
        "id": "MuTc4VHrBwKA",
        "outputId": "d6718772-cd61-490b-db2b-8c3463607f18"
      },
      "source": [
        "dados_estados = dados_hepc.iloc[5624:5651]\n",
        "# dados_estados\n",
        "\n",
        "anos_recentes = ['Local','Hep_C_2018','Hep_C_2019','Hep_C_2020']\n",
        "\n",
        "dados_estados_sumar = dados_estados[anos_recentes]\n",
        "dados_estados_sumar"
      ],
      "execution_count": null,
      "outputs": [
        {
          "output_type": "execute_result",
          "data": {
            "text/html": [
              "<div>\n",
              "<style scoped>\n",
              "    .dataframe tbody tr th:only-of-type {\n",
              "        vertical-align: middle;\n",
              "    }\n",
              "\n",
              "    .dataframe tbody tr th {\n",
              "        vertical-align: top;\n",
              "    }\n",
              "\n",
              "    .dataframe thead th {\n",
              "        text-align: right;\n",
              "    }\n",
              "</style>\n",
              "<table border=\"1\" class=\"dataframe\">\n",
              "  <thead>\n",
              "    <tr style=\"text-align: right;\">\n",
              "      <th></th>\n",
              "      <th>Local</th>\n",
              "      <th>Hep_C_2018</th>\n",
              "      <th>Hep_C_2019</th>\n",
              "      <th>Hep_C_2020</th>\n",
              "    </tr>\n",
              "  </thead>\n",
              "  <tbody>\n",
              "    <tr>\n",
              "      <th>5624</th>\n",
              "      <td>Rondônia</td>\n",
              "      <td>215</td>\n",
              "      <td>140</td>\n",
              "      <td>57</td>\n",
              "    </tr>\n",
              "    <tr>\n",
              "      <th>5625</th>\n",
              "      <td>Acre</td>\n",
              "      <td>115</td>\n",
              "      <td>110</td>\n",
              "      <td>40</td>\n",
              "    </tr>\n",
              "    <tr>\n",
              "      <th>5626</th>\n",
              "      <td>Amazonas</td>\n",
              "      <td>332</td>\n",
              "      <td>306</td>\n",
              "      <td>156</td>\n",
              "    </tr>\n",
              "    <tr>\n",
              "      <th>5627</th>\n",
              "      <td>Roraima</td>\n",
              "      <td>66</td>\n",
              "      <td>61</td>\n",
              "      <td>55</td>\n",
              "    </tr>\n",
              "    <tr>\n",
              "      <th>5628</th>\n",
              "      <td>Pará</td>\n",
              "      <td>330</td>\n",
              "      <td>357</td>\n",
              "      <td>145</td>\n",
              "    </tr>\n",
              "    <tr>\n",
              "      <th>5629</th>\n",
              "      <td>Amapá</td>\n",
              "      <td>30</td>\n",
              "      <td>36</td>\n",
              "      <td>7</td>\n",
              "    </tr>\n",
              "    <tr>\n",
              "      <th>5630</th>\n",
              "      <td>Tocantins</td>\n",
              "      <td>46</td>\n",
              "      <td>45</td>\n",
              "      <td>22</td>\n",
              "    </tr>\n",
              "    <tr>\n",
              "      <th>5631</th>\n",
              "      <td>Maranhão</td>\n",
              "      <td>203</td>\n",
              "      <td>172</td>\n",
              "      <td>43</td>\n",
              "    </tr>\n",
              "    <tr>\n",
              "      <th>5632</th>\n",
              "      <td>Piauí</td>\n",
              "      <td>50</td>\n",
              "      <td>65</td>\n",
              "      <td>29</td>\n",
              "    </tr>\n",
              "    <tr>\n",
              "      <th>5633</th>\n",
              "      <td>Ceará</td>\n",
              "      <td>262</td>\n",
              "      <td>216</td>\n",
              "      <td>93</td>\n",
              "    </tr>\n",
              "    <tr>\n",
              "      <th>5634</th>\n",
              "      <td>Rio Grande do Norte</td>\n",
              "      <td>119</td>\n",
              "      <td>101</td>\n",
              "      <td>44</td>\n",
              "    </tr>\n",
              "    <tr>\n",
              "      <th>5635</th>\n",
              "      <td>Paraíba</td>\n",
              "      <td>128</td>\n",
              "      <td>114</td>\n",
              "      <td>21</td>\n",
              "    </tr>\n",
              "    <tr>\n",
              "      <th>5636</th>\n",
              "      <td>Pernambuco</td>\n",
              "      <td>228</td>\n",
              "      <td>279</td>\n",
              "      <td>143</td>\n",
              "    </tr>\n",
              "    <tr>\n",
              "      <th>5637</th>\n",
              "      <td>Alagoas</td>\n",
              "      <td>128</td>\n",
              "      <td>173</td>\n",
              "      <td>58</td>\n",
              "    </tr>\n",
              "    <tr>\n",
              "      <th>5638</th>\n",
              "      <td>Sergipe</td>\n",
              "      <td>117</td>\n",
              "      <td>104</td>\n",
              "      <td>51</td>\n",
              "    </tr>\n",
              "    <tr>\n",
              "      <th>5639</th>\n",
              "      <td>Bahia</td>\n",
              "      <td>824</td>\n",
              "      <td>491</td>\n",
              "      <td>165</td>\n",
              "    </tr>\n",
              "    <tr>\n",
              "      <th>5640</th>\n",
              "      <td>Minas Gerais</td>\n",
              "      <td>1549</td>\n",
              "      <td>1409</td>\n",
              "      <td>583</td>\n",
              "    </tr>\n",
              "    <tr>\n",
              "      <th>5641</th>\n",
              "      <td>Espírito Santo</td>\n",
              "      <td>254</td>\n",
              "      <td>193</td>\n",
              "      <td>78</td>\n",
              "    </tr>\n",
              "    <tr>\n",
              "      <th>5642</th>\n",
              "      <td>Rio de Janeiro</td>\n",
              "      <td>1592</td>\n",
              "      <td>1341</td>\n",
              "      <td>519</td>\n",
              "    </tr>\n",
              "    <tr>\n",
              "      <th>5643</th>\n",
              "      <td>São Paulo</td>\n",
              "      <td>9626</td>\n",
              "      <td>7615</td>\n",
              "      <td>2825</td>\n",
              "    </tr>\n",
              "    <tr>\n",
              "      <th>5644</th>\n",
              "      <td>Paraná</td>\n",
              "      <td>1397</td>\n",
              "      <td>1310</td>\n",
              "      <td>718</td>\n",
              "    </tr>\n",
              "    <tr>\n",
              "      <th>5645</th>\n",
              "      <td>Santa Catarina</td>\n",
              "      <td>1214</td>\n",
              "      <td>1138</td>\n",
              "      <td>661</td>\n",
              "    </tr>\n",
              "    <tr>\n",
              "      <th>5646</th>\n",
              "      <td>Rio Grande do Sul</td>\n",
              "      <td>4783</td>\n",
              "      <td>4500</td>\n",
              "      <td>2284</td>\n",
              "    </tr>\n",
              "    <tr>\n",
              "      <th>5647</th>\n",
              "      <td>Mato Grosso do Sul</td>\n",
              "      <td>202</td>\n",
              "      <td>171</td>\n",
              "      <td>47</td>\n",
              "    </tr>\n",
              "    <tr>\n",
              "      <th>5648</th>\n",
              "      <td>Mato Grosso</td>\n",
              "      <td>198</td>\n",
              "      <td>222</td>\n",
              "      <td>105</td>\n",
              "    </tr>\n",
              "    <tr>\n",
              "      <th>5649</th>\n",
              "      <td>Goiás</td>\n",
              "      <td>351</td>\n",
              "      <td>346</td>\n",
              "      <td>217</td>\n",
              "    </tr>\n",
              "    <tr>\n",
              "      <th>5650</th>\n",
              "      <td>Distrito Federal</td>\n",
              "      <td>166</td>\n",
              "      <td>178</td>\n",
              "      <td>120</td>\n",
              "    </tr>\n",
              "  </tbody>\n",
              "</table>\n",
              "</div>"
            ],
            "text/plain": [
              "                    Local  Hep_C_2018  Hep_C_2019  Hep_C_2020\n",
              "5624             Rondônia         215         140          57\n",
              "5625                 Acre         115         110          40\n",
              "5626             Amazonas         332         306         156\n",
              "5627              Roraima          66          61          55\n",
              "5628                 Pará         330         357         145\n",
              "5629                Amapá          30          36           7\n",
              "5630            Tocantins          46          45          22\n",
              "5631             Maranhão         203         172          43\n",
              "5632                Piauí          50          65          29\n",
              "5633                Ceará         262         216          93\n",
              "5634  Rio Grande do Norte         119         101          44\n",
              "5635              Paraíba         128         114          21\n",
              "5636           Pernambuco         228         279         143\n",
              "5637              Alagoas         128         173          58\n",
              "5638              Sergipe         117         104          51\n",
              "5639                Bahia         824         491         165\n",
              "5640         Minas Gerais        1549        1409         583\n",
              "5641       Espírito Santo         254         193          78\n",
              "5642       Rio de Janeiro        1592        1341         519\n",
              "5643            São Paulo        9626        7615        2825\n",
              "5644               Paraná        1397        1310         718\n",
              "5645       Santa Catarina        1214        1138         661\n",
              "5646    Rio Grande do Sul        4783        4500        2284\n",
              "5647   Mato Grosso do Sul         202         171          47\n",
              "5648          Mato Grosso         198         222         105\n",
              "5649                Goiás         351         346         217\n",
              "5650     Distrito Federal         166         178         120"
            ]
          },
          "metadata": {
            "tags": []
          },
          "execution_count": 11
        }
      ]
    },
    {
      "cell_type": "code",
      "metadata": {
        "colab": {
          "base_uri": "https://localhost:8080/",
          "height": 925
        },
        "id": "imRGpmN55prs",
        "outputId": "6fdd7c1f-e2af-4c15-b75a-ad412edd59b9"
      },
      "source": [
        "dados_estados_sumar.set_index('Local')"
      ],
      "execution_count": null,
      "outputs": [
        {
          "output_type": "execute_result",
          "data": {
            "text/html": [
              "<div>\n",
              "<style scoped>\n",
              "    .dataframe tbody tr th:only-of-type {\n",
              "        vertical-align: middle;\n",
              "    }\n",
              "\n",
              "    .dataframe tbody tr th {\n",
              "        vertical-align: top;\n",
              "    }\n",
              "\n",
              "    .dataframe thead th {\n",
              "        text-align: right;\n",
              "    }\n",
              "</style>\n",
              "<table border=\"1\" class=\"dataframe\">\n",
              "  <thead>\n",
              "    <tr style=\"text-align: right;\">\n",
              "      <th></th>\n",
              "      <th>Hep_C_2018</th>\n",
              "      <th>Hep_C_2019</th>\n",
              "      <th>Hep_C_2020</th>\n",
              "    </tr>\n",
              "    <tr>\n",
              "      <th>Local</th>\n",
              "      <th></th>\n",
              "      <th></th>\n",
              "      <th></th>\n",
              "    </tr>\n",
              "  </thead>\n",
              "  <tbody>\n",
              "    <tr>\n",
              "      <th>Rondônia</th>\n",
              "      <td>215</td>\n",
              "      <td>140</td>\n",
              "      <td>57</td>\n",
              "    </tr>\n",
              "    <tr>\n",
              "      <th>Acre</th>\n",
              "      <td>115</td>\n",
              "      <td>110</td>\n",
              "      <td>40</td>\n",
              "    </tr>\n",
              "    <tr>\n",
              "      <th>Amazonas</th>\n",
              "      <td>332</td>\n",
              "      <td>306</td>\n",
              "      <td>156</td>\n",
              "    </tr>\n",
              "    <tr>\n",
              "      <th>Roraima</th>\n",
              "      <td>66</td>\n",
              "      <td>61</td>\n",
              "      <td>55</td>\n",
              "    </tr>\n",
              "    <tr>\n",
              "      <th>Pará</th>\n",
              "      <td>330</td>\n",
              "      <td>357</td>\n",
              "      <td>145</td>\n",
              "    </tr>\n",
              "    <tr>\n",
              "      <th>Amapá</th>\n",
              "      <td>30</td>\n",
              "      <td>36</td>\n",
              "      <td>7</td>\n",
              "    </tr>\n",
              "    <tr>\n",
              "      <th>Tocantins</th>\n",
              "      <td>46</td>\n",
              "      <td>45</td>\n",
              "      <td>22</td>\n",
              "    </tr>\n",
              "    <tr>\n",
              "      <th>Maranhão</th>\n",
              "      <td>203</td>\n",
              "      <td>172</td>\n",
              "      <td>43</td>\n",
              "    </tr>\n",
              "    <tr>\n",
              "      <th>Piauí</th>\n",
              "      <td>50</td>\n",
              "      <td>65</td>\n",
              "      <td>29</td>\n",
              "    </tr>\n",
              "    <tr>\n",
              "      <th>Ceará</th>\n",
              "      <td>262</td>\n",
              "      <td>216</td>\n",
              "      <td>93</td>\n",
              "    </tr>\n",
              "    <tr>\n",
              "      <th>Rio Grande do Norte</th>\n",
              "      <td>119</td>\n",
              "      <td>101</td>\n",
              "      <td>44</td>\n",
              "    </tr>\n",
              "    <tr>\n",
              "      <th>Paraíba</th>\n",
              "      <td>128</td>\n",
              "      <td>114</td>\n",
              "      <td>21</td>\n",
              "    </tr>\n",
              "    <tr>\n",
              "      <th>Pernambuco</th>\n",
              "      <td>228</td>\n",
              "      <td>279</td>\n",
              "      <td>143</td>\n",
              "    </tr>\n",
              "    <tr>\n",
              "      <th>Alagoas</th>\n",
              "      <td>128</td>\n",
              "      <td>173</td>\n",
              "      <td>58</td>\n",
              "    </tr>\n",
              "    <tr>\n",
              "      <th>Sergipe</th>\n",
              "      <td>117</td>\n",
              "      <td>104</td>\n",
              "      <td>51</td>\n",
              "    </tr>\n",
              "    <tr>\n",
              "      <th>Bahia</th>\n",
              "      <td>824</td>\n",
              "      <td>491</td>\n",
              "      <td>165</td>\n",
              "    </tr>\n",
              "    <tr>\n",
              "      <th>Minas Gerais</th>\n",
              "      <td>1549</td>\n",
              "      <td>1409</td>\n",
              "      <td>583</td>\n",
              "    </tr>\n",
              "    <tr>\n",
              "      <th>Espírito Santo</th>\n",
              "      <td>254</td>\n",
              "      <td>193</td>\n",
              "      <td>78</td>\n",
              "    </tr>\n",
              "    <tr>\n",
              "      <th>Rio de Janeiro</th>\n",
              "      <td>1592</td>\n",
              "      <td>1341</td>\n",
              "      <td>519</td>\n",
              "    </tr>\n",
              "    <tr>\n",
              "      <th>São Paulo</th>\n",
              "      <td>9626</td>\n",
              "      <td>7615</td>\n",
              "      <td>2825</td>\n",
              "    </tr>\n",
              "    <tr>\n",
              "      <th>Paraná</th>\n",
              "      <td>1397</td>\n",
              "      <td>1310</td>\n",
              "      <td>718</td>\n",
              "    </tr>\n",
              "    <tr>\n",
              "      <th>Santa Catarina</th>\n",
              "      <td>1214</td>\n",
              "      <td>1138</td>\n",
              "      <td>661</td>\n",
              "    </tr>\n",
              "    <tr>\n",
              "      <th>Rio Grande do Sul</th>\n",
              "      <td>4783</td>\n",
              "      <td>4500</td>\n",
              "      <td>2284</td>\n",
              "    </tr>\n",
              "    <tr>\n",
              "      <th>Mato Grosso do Sul</th>\n",
              "      <td>202</td>\n",
              "      <td>171</td>\n",
              "      <td>47</td>\n",
              "    </tr>\n",
              "    <tr>\n",
              "      <th>Mato Grosso</th>\n",
              "      <td>198</td>\n",
              "      <td>222</td>\n",
              "      <td>105</td>\n",
              "    </tr>\n",
              "    <tr>\n",
              "      <th>Goiás</th>\n",
              "      <td>351</td>\n",
              "      <td>346</td>\n",
              "      <td>217</td>\n",
              "    </tr>\n",
              "    <tr>\n",
              "      <th>Distrito Federal</th>\n",
              "      <td>166</td>\n",
              "      <td>178</td>\n",
              "      <td>120</td>\n",
              "    </tr>\n",
              "  </tbody>\n",
              "</table>\n",
              "</div>"
            ],
            "text/plain": [
              "                     Hep_C_2018  Hep_C_2019  Hep_C_2020\n",
              "Local                                                  \n",
              "Rondônia                    215         140          57\n",
              "Acre                        115         110          40\n",
              "Amazonas                    332         306         156\n",
              "Roraima                      66          61          55\n",
              "Pará                        330         357         145\n",
              "Amapá                        30          36           7\n",
              "Tocantins                    46          45          22\n",
              "Maranhão                    203         172          43\n",
              "Piauí                        50          65          29\n",
              "Ceará                       262         216          93\n",
              "Rio Grande do Norte         119         101          44\n",
              "Paraíba                     128         114          21\n",
              "Pernambuco                  228         279         143\n",
              "Alagoas                     128         173          58\n",
              "Sergipe                     117         104          51\n",
              "Bahia                       824         491         165\n",
              "Minas Gerais               1549        1409         583\n",
              "Espírito Santo              254         193          78\n",
              "Rio de Janeiro             1592        1341         519\n",
              "São Paulo                  9626        7615        2825\n",
              "Paraná                     1397        1310         718\n",
              "Santa Catarina             1214        1138         661\n",
              "Rio Grande do Sul          4783        4500        2284\n",
              "Mato Grosso do Sul          202         171          47\n",
              "Mato Grosso                 198         222         105\n",
              "Goiás                       351         346         217\n",
              "Distrito Federal            166         178         120"
            ]
          },
          "metadata": {
            "tags": []
          },
          "execution_count": 12
        }
      ]
    },
    {
      "cell_type": "markdown",
      "metadata": {
        "id": "wdOQpi0YFzIo"
      },
      "source": [
        "### Processando tabelas de taxa de detecção da Hepatite C"
      ]
    },
    {
      "cell_type": "code",
      "metadata": {
        "colab": {
          "base_uri": "https://localhost:8080/",
          "height": 494
        },
        "id": "lLVCeRTRCypG",
        "outputId": "208aca71-541f-40c6-90c8-69e48f7ea48b"
      },
      "source": [
        "# lista_colunas = ['Hep C Novo 2008',\t'Hep C Novo 2009', 'Hep C Novo 2010', 'Hep C Novo 2011', 'Hep C Novo 2012', \\\n",
        "#                 'Hep C Novo 2013', 'Hep C Novo 2014', 'Hep C Novo 2015', 'Hep C Novo 2016', 'Hep C Novo 2017', \\\n",
        "#                 'Hep C Novo 2018', 'Hep C Novo 2019', 'Hep C Novo 2020']\n",
        "index_cols = \"C, EA:EM\"\n",
        "\n",
        "\n",
        "dados_tx_detec_hepc = pd.read_excel(open('Baixar dados de todos os municípios - HEPATITES.xlsx', 'rb'), sheet_name='DADOS CONTINUAÇÃO 1', \n",
        "                           usecols=index_cols)\n",
        "\n",
        "dados_tx_detec_hepc.columns = ['local', 'taxa_deteccao_hep_C_2008', 'taxa_deteccao_hep_c_2009', 'taxa_deteccao_hep_c_2010', 'taxa_deteccao_hep_c_2011', 'taxa_deteccao_hep_c_2012', 'taxa_deteccao_hep_c_2013', 'taxa_deteccao_hep_c_2014', 'taxa_deteccao_hep_c_2015', 'taxa_deteccao_hep_c_2016', 'taxa_deteccao_hep_c_2017', 'taxa_deteccao_hep_c_2018', 'taxa_deteccao_hep_c_2019', 'taxa_deteccao_hep_c_2020']\n",
        "\n",
        "\n",
        "dados_tx_detec_hepc"
      ],
      "execution_count": null,
      "outputs": [
        {
          "output_type": "execute_result",
          "data": {
            "text/html": [
              "<div>\n",
              "<style scoped>\n",
              "    .dataframe tbody tr th:only-of-type {\n",
              "        vertical-align: middle;\n",
              "    }\n",
              "\n",
              "    .dataframe tbody tr th {\n",
              "        vertical-align: top;\n",
              "    }\n",
              "\n",
              "    .dataframe thead th {\n",
              "        text-align: right;\n",
              "    }\n",
              "</style>\n",
              "<table border=\"1\" class=\"dataframe\">\n",
              "  <thead>\n",
              "    <tr style=\"text-align: right;\">\n",
              "      <th></th>\n",
              "      <th>local</th>\n",
              "      <th>taxa_deteccao_hep_C_2008</th>\n",
              "      <th>taxa_deteccao_hep_c_2009</th>\n",
              "      <th>taxa_deteccao_hep_c_2010</th>\n",
              "      <th>taxa_deteccao_hep_c_2011</th>\n",
              "      <th>taxa_deteccao_hep_c_2012</th>\n",
              "      <th>taxa_deteccao_hep_c_2013</th>\n",
              "      <th>taxa_deteccao_hep_c_2014</th>\n",
              "      <th>taxa_deteccao_hep_c_2015</th>\n",
              "      <th>taxa_deteccao_hep_c_2016</th>\n",
              "      <th>taxa_deteccao_hep_c_2017</th>\n",
              "      <th>taxa_deteccao_hep_c_2018</th>\n",
              "      <th>taxa_deteccao_hep_c_2019</th>\n",
              "      <th>taxa_deteccao_hep_c_2020</th>\n",
              "    </tr>\n",
              "  </thead>\n",
              "  <tbody>\n",
              "    <tr>\n",
              "      <th>0</th>\n",
              "      <td>Alta Floresta D'Oeste</td>\n",
              "      <td>0.000000</td>\n",
              "      <td>0.000000</td>\n",
              "      <td>0.000000</td>\n",
              "      <td>0.000000</td>\n",
              "      <td>8.633342</td>\n",
              "      <td>0.000000</td>\n",
              "      <td>0.000000</td>\n",
              "      <td>0.000000</td>\n",
              "      <td>8.729812</td>\n",
              "      <td>0.000000</td>\n",
              "      <td>17.735213</td>\n",
              "      <td>8.937349</td>\n",
              "      <td>0.000000</td>\n",
              "    </tr>\n",
              "    <tr>\n",
              "      <th>1</th>\n",
              "      <td>Ariquemes</td>\n",
              "      <td>0.000000</td>\n",
              "      <td>0.000000</td>\n",
              "      <td>2.231645</td>\n",
              "      <td>0.000000</td>\n",
              "      <td>2.174008</td>\n",
              "      <td>8.256616</td>\n",
              "      <td>6.077796</td>\n",
              "      <td>7.954658</td>\n",
              "      <td>15.631717</td>\n",
              "      <td>9.602643</td>\n",
              "      <td>1.886970</td>\n",
              "      <td>3.710851</td>\n",
              "      <td>3.651234</td>\n",
              "    </tr>\n",
              "    <tr>\n",
              "      <th>2</th>\n",
              "      <td>Cabixi</td>\n",
              "      <td>0.000000</td>\n",
              "      <td>0.000000</td>\n",
              "      <td>0.000000</td>\n",
              "      <td>0.000000</td>\n",
              "      <td>0.000000</td>\n",
              "      <td>0.000000</td>\n",
              "      <td>0.000000</td>\n",
              "      <td>0.000000</td>\n",
              "      <td>0.000000</td>\n",
              "      <td>0.000000</td>\n",
              "      <td>0.000000</td>\n",
              "      <td>0.000000</td>\n",
              "      <td>0.000000</td>\n",
              "    </tr>\n",
              "    <tr>\n",
              "      <th>3</th>\n",
              "      <td>Cacoal</td>\n",
              "      <td>0.000000</td>\n",
              "      <td>0.000000</td>\n",
              "      <td>2.534854</td>\n",
              "      <td>5.045154</td>\n",
              "      <td>5.021719</td>\n",
              "      <td>4.837812</td>\n",
              "      <td>4.796508</td>\n",
              "      <td>7.135721</td>\n",
              "      <td>16.513329</td>\n",
              "      <td>18.718705</td>\n",
              "      <td>6.962495</td>\n",
              "      <td>0.000000</td>\n",
              "      <td>0.000000</td>\n",
              "    </tr>\n",
              "    <tr>\n",
              "      <th>4</th>\n",
              "      <td>Cerejeiras</td>\n",
              "      <td>0.000000</td>\n",
              "      <td>0.000000</td>\n",
              "      <td>0.000000</td>\n",
              "      <td>0.000000</td>\n",
              "      <td>0.000000</td>\n",
              "      <td>0.000000</td>\n",
              "      <td>0.000000</td>\n",
              "      <td>0.000000</td>\n",
              "      <td>11.897680</td>\n",
              "      <td>11.964585</td>\n",
              "      <td>0.000000</td>\n",
              "      <td>0.000000</td>\n",
              "      <td>0.000000</td>\n",
              "    </tr>\n",
              "    <tr>\n",
              "      <th>...</th>\n",
              "      <td>...</td>\n",
              "      <td>...</td>\n",
              "      <td>...</td>\n",
              "      <td>...</td>\n",
              "      <td>...</td>\n",
              "      <td>...</td>\n",
              "      <td>...</td>\n",
              "      <td>...</td>\n",
              "      <td>...</td>\n",
              "      <td>...</td>\n",
              "      <td>...</td>\n",
              "      <td>...</td>\n",
              "      <td>...</td>\n",
              "      <td>...</td>\n",
              "    </tr>\n",
              "    <tr>\n",
              "      <th>5652</th>\n",
              "      <td>Nordeste</td>\n",
              "      <td>1.021202</td>\n",
              "      <td>0.989691</td>\n",
              "      <td>1.096681</td>\n",
              "      <td>1.281530</td>\n",
              "      <td>1.264638</td>\n",
              "      <td>1.250705</td>\n",
              "      <td>1.053175</td>\n",
              "      <td>2.636571</td>\n",
              "      <td>2.304767</td>\n",
              "      <td>2.587049</td>\n",
              "      <td>3.135687</td>\n",
              "      <td>2.514394</td>\n",
              "      <td>1.035009</td>\n",
              "    </tr>\n",
              "    <tr>\n",
              "      <th>5653</th>\n",
              "      <td>Sudeste</td>\n",
              "      <td>6.680016</td>\n",
              "      <td>7.041141</td>\n",
              "      <td>7.392021</td>\n",
              "      <td>8.418055</td>\n",
              "      <td>8.317013</td>\n",
              "      <td>7.074811</td>\n",
              "      <td>6.229781</td>\n",
              "      <td>13.372303</td>\n",
              "      <td>13.603079</td>\n",
              "      <td>12.595234</td>\n",
              "      <td>13.032862</td>\n",
              "      <td>10.380162</td>\n",
              "      <td>3.594751</td>\n",
              "    </tr>\n",
              "    <tr>\n",
              "      <th>5654</th>\n",
              "      <td>Sul</td>\n",
              "      <td>6.655946</td>\n",
              "      <td>6.814232</td>\n",
              "      <td>8.264949</td>\n",
              "      <td>8.497440</td>\n",
              "      <td>8.841973</td>\n",
              "      <td>9.290695</td>\n",
              "      <td>10.575972</td>\n",
              "      <td>23.790415</td>\n",
              "      <td>23.054703</td>\n",
              "      <td>20.395066</td>\n",
              "      <td>21.508645</td>\n",
              "      <td>19.402393</td>\n",
              "      <td>9.691816</td>\n",
              "    </tr>\n",
              "    <tr>\n",
              "      <th>5655</th>\n",
              "      <td>Centro-Oeste</td>\n",
              "      <td>1.968554</td>\n",
              "      <td>2.195545</td>\n",
              "      <td>1.864901</td>\n",
              "      <td>3.039671</td>\n",
              "      <td>2.327093</td>\n",
              "      <td>2.052476</td>\n",
              "      <td>2.178588</td>\n",
              "      <td>4.999171</td>\n",
              "      <td>5.688854</td>\n",
              "      <td>5.136210</td>\n",
              "      <td>4.474372</td>\n",
              "      <td>4.475879</td>\n",
              "      <td>2.221179</td>\n",
              "    </tr>\n",
              "    <tr>\n",
              "      <th>5656</th>\n",
              "      <td>Brasil</td>\n",
              "      <td>4.343025</td>\n",
              "      <td>4.533491</td>\n",
              "      <td>4.901960</td>\n",
              "      <td>5.515652</td>\n",
              "      <td>5.503939</td>\n",
              "      <td>5.031670</td>\n",
              "      <td>4.789064</td>\n",
              "      <td>10.623709</td>\n",
              "      <td>10.564865</td>\n",
              "      <td>9.856483</td>\n",
              "      <td>10.292747</td>\n",
              "      <td>8.642284</td>\n",
              "      <td>3.566424</td>\n",
              "    </tr>\n",
              "  </tbody>\n",
              "</table>\n",
              "<p>5657 rows × 14 columns</p>\n",
              "</div>"
            ],
            "text/plain": [
              "                      local  ...  taxa_deteccao_hep_c_2020\n",
              "0     Alta Floresta D'Oeste  ...                  0.000000\n",
              "1                 Ariquemes  ...                  3.651234\n",
              "2                    Cabixi  ...                  0.000000\n",
              "3                    Cacoal  ...                  0.000000\n",
              "4                Cerejeiras  ...                  0.000000\n",
              "...                     ...  ...                       ...\n",
              "5652               Nordeste  ...                  1.035009\n",
              "5653                Sudeste  ...                  3.594751\n",
              "5654                    Sul  ...                  9.691816\n",
              "5655           Centro-Oeste  ...                  2.221179\n",
              "5656                 Brasil  ...                  3.566424\n",
              "\n",
              "[5657 rows x 14 columns]"
            ]
          },
          "metadata": {
            "tags": []
          },
          "execution_count": 13
        }
      ]
    },
    {
      "cell_type": "code",
      "metadata": {
        "colab": {
          "base_uri": "https://localhost:8080/"
        },
        "id": "zalABq-PJcDF",
        "outputId": "eb19134a-11c8-46c5-ce42-d121dd130f47"
      },
      "source": [
        "dados_tx_detec_hepc.columns"
      ],
      "execution_count": null,
      "outputs": [
        {
          "output_type": "execute_result",
          "data": {
            "text/plain": [
              "Index(['local', 'taxa_deteccao_hep_C_2008', 'taxa_deteccao_hep_c_2009',\n",
              "       'taxa_deteccao_hep_c_2010', 'taxa_deteccao_hep_c_2011',\n",
              "       'taxa_deteccao_hep_c_2012', 'taxa_deteccao_hep_c_2013',\n",
              "       'taxa_deteccao_hep_c_2014', 'taxa_deteccao_hep_c_2015',\n",
              "       'taxa_deteccao_hep_c_2016', 'taxa_deteccao_hep_c_2017',\n",
              "       'taxa_deteccao_hep_c_2018', 'taxa_deteccao_hep_c_2019',\n",
              "       'taxa_deteccao_hep_c_2020'],\n",
              "      dtype='object')"
            ]
          },
          "metadata": {
            "tags": []
          },
          "execution_count": 14
        }
      ]
    },
    {
      "cell_type": "markdown",
      "metadata": {
        "id": "P5KXi0m7FGyk"
      },
      "source": [
        "#### Dados por região"
      ]
    },
    {
      "cell_type": "code",
      "metadata": {
        "colab": {
          "base_uri": "https://localhost:8080/",
          "height": 236
        },
        "id": "wv-K7Eu6LoYa",
        "outputId": "c8071089-73f8-487b-f51c-5eba07d130d3"
      },
      "source": [
        "dados_regiao_detec = dados_tx_detec_hepc.iloc[5651:5656]\n",
        "dados_regiao_detec.columns = ['local'] + list(range(2008,2021))\n",
        "dados_regiao_detec = dados_regiao_detec.set_index('local')\n",
        "dados_regiao_detec"
      ],
      "execution_count": null,
      "outputs": [
        {
          "output_type": "execute_result",
          "data": {
            "text/html": [
              "<div>\n",
              "<style scoped>\n",
              "    .dataframe tbody tr th:only-of-type {\n",
              "        vertical-align: middle;\n",
              "    }\n",
              "\n",
              "    .dataframe tbody tr th {\n",
              "        vertical-align: top;\n",
              "    }\n",
              "\n",
              "    .dataframe thead th {\n",
              "        text-align: right;\n",
              "    }\n",
              "</style>\n",
              "<table border=\"1\" class=\"dataframe\">\n",
              "  <thead>\n",
              "    <tr style=\"text-align: right;\">\n",
              "      <th></th>\n",
              "      <th>2008</th>\n",
              "      <th>2009</th>\n",
              "      <th>2010</th>\n",
              "      <th>2011</th>\n",
              "      <th>2012</th>\n",
              "      <th>2013</th>\n",
              "      <th>2014</th>\n",
              "      <th>2015</th>\n",
              "      <th>2016</th>\n",
              "      <th>2017</th>\n",
              "      <th>2018</th>\n",
              "      <th>2019</th>\n",
              "      <th>2020</th>\n",
              "    </tr>\n",
              "    <tr>\n",
              "      <th>local</th>\n",
              "      <th></th>\n",
              "      <th></th>\n",
              "      <th></th>\n",
              "      <th></th>\n",
              "      <th></th>\n",
              "      <th></th>\n",
              "      <th></th>\n",
              "      <th></th>\n",
              "      <th></th>\n",
              "      <th></th>\n",
              "      <th></th>\n",
              "      <th></th>\n",
              "      <th></th>\n",
              "    </tr>\n",
              "  </thead>\n",
              "  <tbody>\n",
              "    <tr>\n",
              "      <th>Norte</th>\n",
              "      <td>1.389858</td>\n",
              "      <td>1.501691</td>\n",
              "      <td>1.743105</td>\n",
              "      <td>1.893745</td>\n",
              "      <td>2.420751</td>\n",
              "      <td>2.328868</td>\n",
              "      <td>2.083975</td>\n",
              "      <td>5.157320</td>\n",
              "      <td>5.018279</td>\n",
              "      <td>5.746128</td>\n",
              "      <td>5.586996</td>\n",
              "      <td>4.920478</td>\n",
              "      <td>2.271297</td>\n",
              "    </tr>\n",
              "    <tr>\n",
              "      <th>Nordeste</th>\n",
              "      <td>1.021202</td>\n",
              "      <td>0.989691</td>\n",
              "      <td>1.096681</td>\n",
              "      <td>1.281530</td>\n",
              "      <td>1.264638</td>\n",
              "      <td>1.250705</td>\n",
              "      <td>1.053175</td>\n",
              "      <td>2.636571</td>\n",
              "      <td>2.304767</td>\n",
              "      <td>2.587049</td>\n",
              "      <td>3.135687</td>\n",
              "      <td>2.514394</td>\n",
              "      <td>1.035009</td>\n",
              "    </tr>\n",
              "    <tr>\n",
              "      <th>Sudeste</th>\n",
              "      <td>6.680016</td>\n",
              "      <td>7.041141</td>\n",
              "      <td>7.392021</td>\n",
              "      <td>8.418055</td>\n",
              "      <td>8.317013</td>\n",
              "      <td>7.074811</td>\n",
              "      <td>6.229781</td>\n",
              "      <td>13.372303</td>\n",
              "      <td>13.603079</td>\n",
              "      <td>12.595234</td>\n",
              "      <td>13.032862</td>\n",
              "      <td>10.380162</td>\n",
              "      <td>3.594751</td>\n",
              "    </tr>\n",
              "    <tr>\n",
              "      <th>Sul</th>\n",
              "      <td>6.655946</td>\n",
              "      <td>6.814232</td>\n",
              "      <td>8.264949</td>\n",
              "      <td>8.497440</td>\n",
              "      <td>8.841973</td>\n",
              "      <td>9.290695</td>\n",
              "      <td>10.575972</td>\n",
              "      <td>23.790415</td>\n",
              "      <td>23.054703</td>\n",
              "      <td>20.395066</td>\n",
              "      <td>21.508645</td>\n",
              "      <td>19.402393</td>\n",
              "      <td>9.691816</td>\n",
              "    </tr>\n",
              "    <tr>\n",
              "      <th>Centro-Oeste</th>\n",
              "      <td>1.968554</td>\n",
              "      <td>2.195545</td>\n",
              "      <td>1.864901</td>\n",
              "      <td>3.039671</td>\n",
              "      <td>2.327093</td>\n",
              "      <td>2.052476</td>\n",
              "      <td>2.178588</td>\n",
              "      <td>4.999171</td>\n",
              "      <td>5.688854</td>\n",
              "      <td>5.136210</td>\n",
              "      <td>4.474372</td>\n",
              "      <td>4.475879</td>\n",
              "      <td>2.221179</td>\n",
              "    </tr>\n",
              "  </tbody>\n",
              "</table>\n",
              "</div>"
            ],
            "text/plain": [
              "                  2008      2009      2010  ...       2018       2019      2020\n",
              "local                                       ...                                \n",
              "Norte         1.389858  1.501691  1.743105  ...   5.586996   4.920478  2.271297\n",
              "Nordeste      1.021202  0.989691  1.096681  ...   3.135687   2.514394  1.035009\n",
              "Sudeste       6.680016  7.041141  7.392021  ...  13.032862  10.380162  3.594751\n",
              "Sul           6.655946  6.814232  8.264949  ...  21.508645  19.402393  9.691816\n",
              "Centro-Oeste  1.968554  2.195545  1.864901  ...   4.474372   4.475879  2.221179\n",
              "\n",
              "[5 rows x 13 columns]"
            ]
          },
          "metadata": {
            "tags": []
          },
          "execution_count": 15
        }
      ]
    },
    {
      "cell_type": "code",
      "metadata": {
        "colab": {
          "base_uri": "https://localhost:8080/",
          "height": 455
        },
        "id": "C6Fb_7RDFoIn",
        "outputId": "fbe5470b-52a2-43ba-e9d2-4120b669f365"
      },
      "source": [
        "dados_regiao_detec2 = dados_regiao_detec.T\n",
        "dados_regiao_detec2"
      ],
      "execution_count": null,
      "outputs": [
        {
          "output_type": "execute_result",
          "data": {
            "text/html": [
              "<div>\n",
              "<style scoped>\n",
              "    .dataframe tbody tr th:only-of-type {\n",
              "        vertical-align: middle;\n",
              "    }\n",
              "\n",
              "    .dataframe tbody tr th {\n",
              "        vertical-align: top;\n",
              "    }\n",
              "\n",
              "    .dataframe thead th {\n",
              "        text-align: right;\n",
              "    }\n",
              "</style>\n",
              "<table border=\"1\" class=\"dataframe\">\n",
              "  <thead>\n",
              "    <tr style=\"text-align: right;\">\n",
              "      <th>local</th>\n",
              "      <th>Norte</th>\n",
              "      <th>Nordeste</th>\n",
              "      <th>Sudeste</th>\n",
              "      <th>Sul</th>\n",
              "      <th>Centro-Oeste</th>\n",
              "    </tr>\n",
              "  </thead>\n",
              "  <tbody>\n",
              "    <tr>\n",
              "      <th>2008</th>\n",
              "      <td>1.389858</td>\n",
              "      <td>1.021202</td>\n",
              "      <td>6.680016</td>\n",
              "      <td>6.655946</td>\n",
              "      <td>1.968554</td>\n",
              "    </tr>\n",
              "    <tr>\n",
              "      <th>2009</th>\n",
              "      <td>1.501691</td>\n",
              "      <td>0.989691</td>\n",
              "      <td>7.041141</td>\n",
              "      <td>6.814232</td>\n",
              "      <td>2.195545</td>\n",
              "    </tr>\n",
              "    <tr>\n",
              "      <th>2010</th>\n",
              "      <td>1.743105</td>\n",
              "      <td>1.096681</td>\n",
              "      <td>7.392021</td>\n",
              "      <td>8.264949</td>\n",
              "      <td>1.864901</td>\n",
              "    </tr>\n",
              "    <tr>\n",
              "      <th>2011</th>\n",
              "      <td>1.893745</td>\n",
              "      <td>1.281530</td>\n",
              "      <td>8.418055</td>\n",
              "      <td>8.497440</td>\n",
              "      <td>3.039671</td>\n",
              "    </tr>\n",
              "    <tr>\n",
              "      <th>2012</th>\n",
              "      <td>2.420751</td>\n",
              "      <td>1.264638</td>\n",
              "      <td>8.317013</td>\n",
              "      <td>8.841973</td>\n",
              "      <td>2.327093</td>\n",
              "    </tr>\n",
              "    <tr>\n",
              "      <th>2013</th>\n",
              "      <td>2.328868</td>\n",
              "      <td>1.250705</td>\n",
              "      <td>7.074811</td>\n",
              "      <td>9.290695</td>\n",
              "      <td>2.052476</td>\n",
              "    </tr>\n",
              "    <tr>\n",
              "      <th>2014</th>\n",
              "      <td>2.083975</td>\n",
              "      <td>1.053175</td>\n",
              "      <td>6.229781</td>\n",
              "      <td>10.575972</td>\n",
              "      <td>2.178588</td>\n",
              "    </tr>\n",
              "    <tr>\n",
              "      <th>2015</th>\n",
              "      <td>5.157320</td>\n",
              "      <td>2.636571</td>\n",
              "      <td>13.372303</td>\n",
              "      <td>23.790415</td>\n",
              "      <td>4.999171</td>\n",
              "    </tr>\n",
              "    <tr>\n",
              "      <th>2016</th>\n",
              "      <td>5.018279</td>\n",
              "      <td>2.304767</td>\n",
              "      <td>13.603079</td>\n",
              "      <td>23.054703</td>\n",
              "      <td>5.688854</td>\n",
              "    </tr>\n",
              "    <tr>\n",
              "      <th>2017</th>\n",
              "      <td>5.746128</td>\n",
              "      <td>2.587049</td>\n",
              "      <td>12.595234</td>\n",
              "      <td>20.395066</td>\n",
              "      <td>5.136210</td>\n",
              "    </tr>\n",
              "    <tr>\n",
              "      <th>2018</th>\n",
              "      <td>5.586996</td>\n",
              "      <td>3.135687</td>\n",
              "      <td>13.032862</td>\n",
              "      <td>21.508645</td>\n",
              "      <td>4.474372</td>\n",
              "    </tr>\n",
              "    <tr>\n",
              "      <th>2019</th>\n",
              "      <td>4.920478</td>\n",
              "      <td>2.514394</td>\n",
              "      <td>10.380162</td>\n",
              "      <td>19.402393</td>\n",
              "      <td>4.475879</td>\n",
              "    </tr>\n",
              "    <tr>\n",
              "      <th>2020</th>\n",
              "      <td>2.271297</td>\n",
              "      <td>1.035009</td>\n",
              "      <td>3.594751</td>\n",
              "      <td>9.691816</td>\n",
              "      <td>2.221179</td>\n",
              "    </tr>\n",
              "  </tbody>\n",
              "</table>\n",
              "</div>"
            ],
            "text/plain": [
              "local     Norte  Nordeste    Sudeste        Sul  Centro-Oeste\n",
              "2008   1.389858  1.021202   6.680016   6.655946      1.968554\n",
              "2009   1.501691  0.989691   7.041141   6.814232      2.195545\n",
              "2010   1.743105  1.096681   7.392021   8.264949      1.864901\n",
              "2011   1.893745  1.281530   8.418055   8.497440      3.039671\n",
              "2012   2.420751  1.264638   8.317013   8.841973      2.327093\n",
              "2013   2.328868  1.250705   7.074811   9.290695      2.052476\n",
              "2014   2.083975  1.053175   6.229781  10.575972      2.178588\n",
              "2015   5.157320  2.636571  13.372303  23.790415      4.999171\n",
              "2016   5.018279  2.304767  13.603079  23.054703      5.688854\n",
              "2017   5.746128  2.587049  12.595234  20.395066      5.136210\n",
              "2018   5.586996  3.135687  13.032862  21.508645      4.474372\n",
              "2019   4.920478  2.514394  10.380162  19.402393      4.475879\n",
              "2020   2.271297  1.035009   3.594751   9.691816      2.221179"
            ]
          },
          "metadata": {
            "tags": []
          },
          "execution_count": 16
        }
      ]
    },
    {
      "cell_type": "markdown",
      "metadata": {
        "id": "PWuI4AbSFNFC"
      },
      "source": [
        "#### Dados por estado"
      ]
    },
    {
      "cell_type": "code",
      "metadata": {
        "colab": {
          "base_uri": "https://localhost:8080/",
          "height": 893
        },
        "id": "xLSeQqXlH_Zi",
        "outputId": "650224af-365a-4124-de4f-35619b4add75"
      },
      "source": [
        "dados_estados_detec = dados_tx_detec_hepc.iloc[5624:5651]\n",
        "dados_estados_detec\n",
        "\n",
        "anos_recentes = ['local','taxa_deteccao_hep_c_2018', 'taxa_deteccao_hep_c_2019', 'taxa_deteccao_hep_c_2020']\n",
        "\n",
        "dados_estados_detec_sumar = dados_estados_detec[anos_recentes]\n",
        "dados_estados_detec_sumar"
      ],
      "execution_count": null,
      "outputs": [
        {
          "output_type": "execute_result",
          "data": {
            "text/html": [
              "<div>\n",
              "<style scoped>\n",
              "    .dataframe tbody tr th:only-of-type {\n",
              "        vertical-align: middle;\n",
              "    }\n",
              "\n",
              "    .dataframe tbody tr th {\n",
              "        vertical-align: top;\n",
              "    }\n",
              "\n",
              "    .dataframe thead th {\n",
              "        text-align: right;\n",
              "    }\n",
              "</style>\n",
              "<table border=\"1\" class=\"dataframe\">\n",
              "  <thead>\n",
              "    <tr style=\"text-align: right;\">\n",
              "      <th></th>\n",
              "      <th>local</th>\n",
              "      <th>taxa_deteccao_hep_c_2018</th>\n",
              "      <th>taxa_deteccao_hep_c_2019</th>\n",
              "      <th>taxa_deteccao_hep_c_2020</th>\n",
              "    </tr>\n",
              "  </thead>\n",
              "  <tbody>\n",
              "    <tr>\n",
              "      <th>5624</th>\n",
              "      <td>Rondônia</td>\n",
              "      <td>9.103952</td>\n",
              "      <td>6.832802</td>\n",
              "      <td>2.476666</td>\n",
              "    </tr>\n",
              "    <tr>\n",
              "      <th>5625</th>\n",
              "      <td>Acre</td>\n",
              "      <td>11.745171</td>\n",
              "      <td>7.487764</td>\n",
              "      <td>4.025495</td>\n",
              "    </tr>\n",
              "    <tr>\n",
              "      <th>5626</th>\n",
              "      <td>Amazonas</td>\n",
              "      <td>7.485122</td>\n",
              "      <td>6.736667</td>\n",
              "      <td>2.863161</td>\n",
              "    </tr>\n",
              "    <tr>\n",
              "      <th>5627</th>\n",
              "      <td>Roraima</td>\n",
              "      <td>8.177923</td>\n",
              "      <td>7.832427</td>\n",
              "      <td>8.205169</td>\n",
              "    </tr>\n",
              "    <tr>\n",
              "      <th>5628</th>\n",
              "      <td>Pará</td>\n",
              "      <td>3.938832</td>\n",
              "      <td>3.731972</td>\n",
              "      <td>1.661247</td>\n",
              "    </tr>\n",
              "    <tr>\n",
              "      <th>5629</th>\n",
              "      <td>Amapá</td>\n",
              "      <td>3.622383</td>\n",
              "      <td>3.789377</td>\n",
              "      <td>0.697222</td>\n",
              "    </tr>\n",
              "    <tr>\n",
              "      <th>5630</th>\n",
              "      <td>Tocantins</td>\n",
              "      <td>2.334624</td>\n",
              "      <td>2.562647</td>\n",
              "      <td>1.392830</td>\n",
              "    </tr>\n",
              "    <tr>\n",
              "      <th>5631</th>\n",
              "      <td>Maranhão</td>\n",
              "      <td>2.715530</td>\n",
              "      <td>2.002602</td>\n",
              "      <td>0.497489</td>\n",
              "    </tr>\n",
              "    <tr>\n",
              "      <th>5632</th>\n",
              "      <td>Piauí</td>\n",
              "      <td>1.011937</td>\n",
              "      <td>1.363925</td>\n",
              "      <td>0.709033</td>\n",
              "    </tr>\n",
              "    <tr>\n",
              "      <th>5633</th>\n",
              "      <td>Ceará</td>\n",
              "      <td>2.291570</td>\n",
              "      <td>2.127469</td>\n",
              "      <td>0.866657</td>\n",
              "    </tr>\n",
              "    <tr>\n",
              "      <th>5634</th>\n",
              "      <td>Rio Grande do Norte</td>\n",
              "      <td>2.188223</td>\n",
              "      <td>1.947694</td>\n",
              "      <td>1.104089</td>\n",
              "    </tr>\n",
              "    <tr>\n",
              "      <th>5635</th>\n",
              "      <td>Paraíba</td>\n",
              "      <td>2.951555</td>\n",
              "      <td>2.597844</td>\n",
              "      <td>0.478392</td>\n",
              "    </tr>\n",
              "    <tr>\n",
              "      <th>5636</th>\n",
              "      <td>Pernambuco</td>\n",
              "      <td>2.228150</td>\n",
              "      <td>2.274063</td>\n",
              "      <td>1.419837</td>\n",
              "    </tr>\n",
              "    <tr>\n",
              "      <th>5637</th>\n",
              "      <td>Alagoas</td>\n",
              "      <td>3.995847</td>\n",
              "      <td>4.377802</td>\n",
              "      <td>1.776445</td>\n",
              "    </tr>\n",
              "    <tr>\n",
              "      <th>5638</th>\n",
              "      <td>Sergipe</td>\n",
              "      <td>4.587094</td>\n",
              "      <td>3.702099</td>\n",
              "      <td>2.083884</td>\n",
              "    </tr>\n",
              "    <tr>\n",
              "      <th>5639</th>\n",
              "      <td>Bahia</td>\n",
              "      <td>4.762526</td>\n",
              "      <td>2.905966</td>\n",
              "      <td>1.016097</td>\n",
              "    </tr>\n",
              "    <tr>\n",
              "      <th>5640</th>\n",
              "      <td>Minas Gerais</td>\n",
              "      <td>6.113654</td>\n",
              "      <td>5.453028</td>\n",
              "      <td>1.979734</td>\n",
              "    </tr>\n",
              "    <tr>\n",
              "      <th>5641</th>\n",
              "      <td>Espírito Santo</td>\n",
              "      <td>5.851845</td>\n",
              "      <td>4.166326</td>\n",
              "      <td>1.744661</td>\n",
              "    </tr>\n",
              "    <tr>\n",
              "      <th>5642</th>\n",
              "      <td>Rio de Janeiro</td>\n",
              "      <td>9.489910</td>\n",
              "      <td>8.102611</td>\n",
              "      <td>2.715256</td>\n",
              "    </tr>\n",
              "    <tr>\n",
              "      <th>5643</th>\n",
              "      <td>São Paulo</td>\n",
              "      <td>18.179399</td>\n",
              "      <td>14.041104</td>\n",
              "      <td>4.827759</td>\n",
              "    </tr>\n",
              "    <tr>\n",
              "      <th>5644</th>\n",
              "      <td>Paraná</td>\n",
              "      <td>10.612410</td>\n",
              "      <td>9.226318</td>\n",
              "      <td>5.071873</td>\n",
              "    </tr>\n",
              "    <tr>\n",
              "      <th>5645</th>\n",
              "      <td>Santa Catarina</td>\n",
              "      <td>13.268649</td>\n",
              "      <td>11.191216</td>\n",
              "      <td>6.977914</td>\n",
              "    </tr>\n",
              "    <tr>\n",
              "      <th>5646</th>\n",
              "      <td>Rio Grande do Sul</td>\n",
              "      <td>37.399910</td>\n",
              "      <td>34.637439</td>\n",
              "      <td>16.011587</td>\n",
              "    </tr>\n",
              "    <tr>\n",
              "      <th>5647</th>\n",
              "      <td>Mato Grosso do Sul</td>\n",
              "      <td>4.987246</td>\n",
              "      <td>4.643866</td>\n",
              "      <td>1.412844</td>\n",
              "    </tr>\n",
              "    <tr>\n",
              "      <th>5648</th>\n",
              "      <td>Mato Grosso</td>\n",
              "      <td>4.601319</td>\n",
              "      <td>5.706383</td>\n",
              "      <td>2.414844</td>\n",
              "    </tr>\n",
              "    <tr>\n",
              "      <th>5649</th>\n",
              "      <td>Goiás</td>\n",
              "      <td>4.271632</td>\n",
              "      <td>3.957017</td>\n",
              "      <td>2.397573</td>\n",
              "    </tr>\n",
              "    <tr>\n",
              "      <th>5650</th>\n",
              "      <td>Distrito Federal</td>\n",
              "      <td>4.333633</td>\n",
              "      <td>4.148694</td>\n",
              "      <td>2.331261</td>\n",
              "    </tr>\n",
              "  </tbody>\n",
              "</table>\n",
              "</div>"
            ],
            "text/plain": [
              "                    local  ...  taxa_deteccao_hep_c_2020\n",
              "5624             Rondônia  ...                  2.476666\n",
              "5625                 Acre  ...                  4.025495\n",
              "5626             Amazonas  ...                  2.863161\n",
              "5627              Roraima  ...                  8.205169\n",
              "5628                 Pará  ...                  1.661247\n",
              "5629                Amapá  ...                  0.697222\n",
              "5630            Tocantins  ...                  1.392830\n",
              "5631             Maranhão  ...                  0.497489\n",
              "5632                Piauí  ...                  0.709033\n",
              "5633                Ceará  ...                  0.866657\n",
              "5634  Rio Grande do Norte  ...                  1.104089\n",
              "5635              Paraíba  ...                  0.478392\n",
              "5636           Pernambuco  ...                  1.419837\n",
              "5637              Alagoas  ...                  1.776445\n",
              "5638              Sergipe  ...                  2.083884\n",
              "5639                Bahia  ...                  1.016097\n",
              "5640         Minas Gerais  ...                  1.979734\n",
              "5641       Espírito Santo  ...                  1.744661\n",
              "5642       Rio de Janeiro  ...                  2.715256\n",
              "5643            São Paulo  ...                  4.827759\n",
              "5644               Paraná  ...                  5.071873\n",
              "5645       Santa Catarina  ...                  6.977914\n",
              "5646    Rio Grande do Sul  ...                 16.011587\n",
              "5647   Mato Grosso do Sul  ...                  1.412844\n",
              "5648          Mato Grosso  ...                  2.414844\n",
              "5649                Goiás  ...                  2.397573\n",
              "5650     Distrito Federal  ...                  2.331261\n",
              "\n",
              "[27 rows x 4 columns]"
            ]
          },
          "metadata": {
            "tags": []
          },
          "execution_count": 17
        }
      ]
    },
    {
      "cell_type": "markdown",
      "metadata": {
        "id": "gxG_tT3hF9cV"
      },
      "source": [
        "### Gráfico de número de casos"
      ]
    },
    {
      "cell_type": "markdown",
      "metadata": {
        "id": "bonhYuCQDyKC"
      },
      "source": [
        "#### Gráfico de barras do Brasil entre 2018 e 2020"
      ]
    },
    {
      "cell_type": "code",
      "metadata": {
        "colab": {
          "base_uri": "https://localhost:8080/",
          "height": 542
        },
        "id": "YvmdX8mtDBVT",
        "outputId": "601d1384-632f-4081-ddf8-f33e20ec836f"
      },
      "source": [
        "plt.figure(figsize=(15,8))\n",
        "fig = sns.barplot(data=dados_regiao_casos, ci=None)\n",
        "\n",
        "fig.set_title('Número de casos de Hepatite C no país entre 2018 e 2020', fontsize=20)    \n",
        "fig.legend(title='',fontsize=14)\n",
        "plt.xlabel('Ano',fontsize=16)\n",
        "plt.ylabel('')\n",
        "\n",
        "plt.show()\n",
        "\n",
        "# Exportando imagem do gráfico\n",
        "# fig.savefig('casos_hepat_c_brasil_2018_2020.tiff', bbox_inches='tight', dpi=600)"
      ],
      "execution_count": null,
      "outputs": [
        {
          "output_type": "stream",
          "text": [
            "No handles with labels found to put in legend.\n"
          ],
          "name": "stderr"
        },
        {
          "output_type": "display_data",
          "data": {
            "image/png": "[encoded data removed]",
            "text/plain": [
              "<Figure size 1080x576 with 1 Axes>"
            ]
          },
          "metadata": {
            "tags": [],
            "needs_background": "light"
          }
        }
      ]
    },
    {
      "cell_type": "markdown",
      "metadata": {
        "id": "RuljDPR1GXrc"
      },
      "source": [
        "#### Gráfico por região"
      ]
    },
    {
      "cell_type": "code",
      "metadata": {
        "colab": {
          "base_uri": "https://localhost:8080/",
          "height": 542
        },
        "id": "tvkJIMcZGZNv",
        "outputId": "1080e295-b40e-4c78-d69d-129534c49379"
      },
      "source": [
        "plt.figure(figsize=(15,8))\n",
        "fig = sns.barplot(data=dados_regiao_casos2, ci=None)\n",
        "\n",
        "fig.set_title('Número de casos de Hepatite C por região', fontsize=20)    \n",
        "fig.legend(title='',fontsize=14)\n",
        "plt.xlabel('Região',fontsize=16)\n",
        "plt.ylabel('')\n",
        "\n",
        "plt.show()\n",
        "\n",
        "# Exportando imagem do gráfico\n",
        "# fig.savefig('casos_hepat_c_regiao_2018_2020_barra.tiff', bbox_inches='tight', dpi=600)"
      ],
      "execution_count": null,
      "outputs": [
        {
          "output_type": "stream",
          "text": [
            "No handles with labels found to put in legend.\n"
          ],
          "name": "stderr"
        },
        {
          "output_type": "display_data",
          "data": {
            "image/png": "[encoded data removed]",
            "text/plain": [
              "<Figure size 1080x576 with 1 Axes>"
            ]
          },
          "metadata": {
            "tags": [],
            "needs_background": "light"
          }
        }
      ]
    },
    {
      "cell_type": "code",
      "metadata": {
        "colab": {
          "base_uri": "https://localhost:8080/",
          "height": 519
        },
        "id": "0UW_-1f6Hnuj",
        "outputId": "025b9e66-2069-41a6-b984-98702b2415d9"
      },
      "source": [
        "plt.figure(figsize=(15,8))\n",
        "fig = sns.lineplot(data=dados_regiao_casos2)\n",
        "\n",
        "fig.set_title('Casos de Hepatite C por Região', fontsize=14)    \n",
        "fig.legend(title='',fontsize=11, loc='upper right')\n",
        "plt.xlabel('Ano',fontsize=15)\n",
        "plt.ylabel('')\n",
        "plt.show()\n",
        "\n",
        "# Exportando imagem do gráfico\n",
        "# fig.savefig('casos_hepat_c_regiao_2018_2020_linha.tiff', bbox_inches='tight', dpi=600)"
      ],
      "execution_count": null,
      "outputs": [
        {
          "output_type": "display_data",
          "data": {
            "image/png": "[encoded data removed]",
            "text/plain": [
              "<Figure size 1080x576 with 1 Axes>"
            ]
          },
          "metadata": {
            "tags": [],
            "needs_background": "light"
          }
        }
      ]
    },
    {
      "cell_type": "markdown",
      "metadata": {
        "id": "o4TLmVZs3Iie"
      },
      "source": [
        "\n",
        "#### Gráfico por estado"
      ]
    },
    {
      "cell_type": "code",
      "metadata": {
        "id": "h0q6QtWMcfls"
      },
      "source": [
        "arr = np.array([[dados_estados_sumar.iloc[0].Local, \"2018\", float(dados_estados_sumar.iloc[0].Hep_C_2018)],\n",
        "               [dados_estados_sumar.iloc[0].Local, \"2019\",float(dados_estados_sumar.iloc[0].Hep_C_2019)],\n",
        "               [dados_estados_sumar.iloc[0].Local, \"2020\",float(dados_estados_sumar.iloc[0].Hep_C_2020)]])              \n",
        "\n",
        "\n",
        "for i in range(len(dados_estados_sumar)):\n",
        "  if i > 0:\n",
        "    arr1 = np.array([[dados_estados_sumar.iloc[i].Local, \"2018\", dados_estados_sumar.iloc[i].Hep_C_2018],\n",
        "                     [dados_estados_sumar.iloc[i].Local, \"2019\",dados_estados_sumar.iloc[i].Hep_C_2019],\n",
        "                     [dados_estados_sumar.iloc[i].Local, \"2020\",dados_estados_sumar.iloc[i].Hep_C_2020]])\n",
        "    arr = np.concatenate((arr,arr1),axis=0)\n",
        "\n",
        "  \n",
        "df_estados_sum = pd.DataFrame(arr) \n",
        "novas_colunas = ['estado', 'ano', 'valor']\n",
        "df_estados_sum.columns = novas_colunas\n",
        "\n",
        "df_estados_sum['valor'] = df_estados_sum['valor'].astype(float, errors = 'raise')\n"
      ],
      "execution_count": null,
      "outputs": []
    },
    {
      "cell_type": "code",
      "metadata": {
        "id": "-vpipcY_jHYo",
        "colab": {
          "base_uri": "https://localhost:8080/",
          "height": 522
        },
        "outputId": "b574e350-6871-4bf6-9a58-2b89a9531464"
      },
      "source": [
        "plt.figure(figsize=(15,8))\n",
        "fig = sns.barplot(x=\"valor\", y=\"estado\", hue=\"ano\", data=df_estados_sum)\n",
        "fig.set_title('Quantidade de Casos nos Estados de 2018 a 2020', fontsize=24)    \n",
        "plt.show()"
      ],
      "execution_count": null,
      "outputs": [
        {
          "output_type": "display_data",
          "data": {
            "image/png": "[encoded data removed]",
            "text/plain": [
              "<Figure size 1080x576 with 1 Axes>"
            ]
          },
          "metadata": {
            "tags": [],
            "needs_background": "light"
          }
        }
      ]
    },
    {
      "cell_type": "code",
      "metadata": {
        "colab": {
          "base_uri": "https://localhost:8080/",
          "height": 244
        },
        "id": "otLNGPSnPVZu",
        "outputId": "6cdaa513-b3ea-4141-f249-1640fd05e66c"
      },
      "source": [
        "plt.figure(figsize=(15,8))\n",
        "fig = sns.barplot(x='estado',y='valor',data=df_estados_sum,hue='ano', orient=\"v\")\n",
        "fig.set_title('Quantidade de Casos nos Estados de 2018 a 2020', fontsize=24)    \n",
        "plt.xticks(rotation=45)\n",
        "plt.show()"
      ],
      "execution_count": null,
      "outputs": [
        {
          "output_type": "error",
          "ename": "NameError",
          "evalue": "ignored",
          "traceback": [
            "\u001b[0;31m---------------------------------------------------------------------------\u001b[0m",
            "\u001b[0;31mNameError\u001b[0m                                 Traceback (most recent call last)",
            "\u001b[0;32m<ipython-input-1-aaf9f12c80e9>\u001b[0m in \u001b[0;36m<module>\u001b[0;34m()\u001b[0m\n\u001b[0;32m----> 1\u001b[0;31m \u001b[0mplt\u001b[0m\u001b[0;34m.\u001b[0m\u001b[0mfigure\u001b[0m\u001b[0;34m(\u001b[0m\u001b[0mfigsize\u001b[0m\u001b[0;34m=\u001b[0m\u001b[0;34m(\u001b[0m\u001b[0;36m15\u001b[0m\u001b[0;34m,\u001b[0m\u001b[0;36m8\u001b[0m\u001b[0;34m)\u001b[0m\u001b[0;34m)\u001b[0m\u001b[0;34m\u001b[0m\u001b[0;34m\u001b[0m\u001b[0m\n\u001b[0m\u001b[1;32m      2\u001b[0m \u001b[0mfig\u001b[0m \u001b[0;34m=\u001b[0m \u001b[0msns\u001b[0m\u001b[0;34m.\u001b[0m\u001b[0mbarplot\u001b[0m\u001b[0;34m(\u001b[0m\u001b[0mx\u001b[0m\u001b[0;34m=\u001b[0m\u001b[0;34m'estado'\u001b[0m\u001b[0;34m,\u001b[0m\u001b[0my\u001b[0m\u001b[0;34m=\u001b[0m\u001b[0;34m'valor'\u001b[0m\u001b[0;34m,\u001b[0m\u001b[0mdata\u001b[0m\u001b[0;34m=\u001b[0m\u001b[0mdf_estados_sum\u001b[0m\u001b[0;34m,\u001b[0m\u001b[0mhue\u001b[0m\u001b[0;34m=\u001b[0m\u001b[0;34m'ano'\u001b[0m\u001b[0;34m,\u001b[0m \u001b[0morient\u001b[0m\u001b[0;34m=\u001b[0m\u001b[0;34m\"v\"\u001b[0m\u001b[0;34m)\u001b[0m\u001b[0;34m\u001b[0m\u001b[0;34m\u001b[0m\u001b[0m\n\u001b[1;32m      3\u001b[0m \u001b[0mfig\u001b[0m\u001b[0;34m.\u001b[0m\u001b[0mset_title\u001b[0m\u001b[0;34m(\u001b[0m\u001b[0;34m'Quantidade de Casos nos Estados de 2018 a 2020'\u001b[0m\u001b[0;34m,\u001b[0m \u001b[0mfontsize\u001b[0m\u001b[0;34m=\u001b[0m\u001b[0;36m24\u001b[0m\u001b[0;34m)\u001b[0m\u001b[0;34m\u001b[0m\u001b[0;34m\u001b[0m\u001b[0m\n\u001b[1;32m      4\u001b[0m \u001b[0mplt\u001b[0m\u001b[0;34m.\u001b[0m\u001b[0mxticks\u001b[0m\u001b[0;34m(\u001b[0m\u001b[0mrotation\u001b[0m\u001b[0;34m=\u001b[0m\u001b[0;36m45\u001b[0m\u001b[0;34m)\u001b[0m\u001b[0;34m\u001b[0m\u001b[0;34m\u001b[0m\u001b[0m\n\u001b[1;32m      5\u001b[0m \u001b[0mplt\u001b[0m\u001b[0;34m.\u001b[0m\u001b[0mshow\u001b[0m\u001b[0;34m(\u001b[0m\u001b[0;34m)\u001b[0m\u001b[0;34m\u001b[0m\u001b[0;34m\u001b[0m\u001b[0m\n",
            "\u001b[0;31mNameError\u001b[0m: name 'plt' is not defined"
          ]
        }
      ]
    },
    {
      "cell_type": "markdown",
      "metadata": {
        "id": "bZKBRE4lGHxC"
      },
      "source": [
        "### Gráfico de taxa de detecção"
      ]
    },
    {
      "cell_type": "markdown",
      "metadata": {
        "id": "EQkMWlXzIev_"
      },
      "source": [
        "#### Gráfico de barras do Brasil entre 2018 e 2020"
      ]
    },
    {
      "cell_type": "code",
      "metadata": {
        "id": "AoEgSXe_Iewc",
        "colab": {
          "base_uri": "https://localhost:8080/",
          "height": 541
        },
        "outputId": "f5352f6f-2e51-484d-ec40-6942fb234263"
      },
      "source": [
        "plt.figure(figsize=(15,8))\n",
        "fig = sns.barplot(data=dados_regiao_detec, ci=None)\n",
        "\n",
        "fig.set_title('Taxa de detecção de casos de Hepatite C no país entre 2018 e 2020', fontsize=20)    \n",
        "fig.legend(title='',fontsize=14)\n",
        "plt.xlabel('Ano',fontsize=16)\n",
        "plt.ylabel('')\n",
        "\n",
        "plt.show()\n",
        "\n",
        "# Exportando imagem do gráfico\n",
        "# fig.savefig('tx_detec_hepat_c_brasil_2018_2020.tiff', bbox_inches='tight', dpi=600)"
      ],
      "execution_count": null,
      "outputs": [
        {
          "output_type": "stream",
          "text": [
            "No handles with labels found to put in legend.\n"
          ],
          "name": "stderr"
        },
        {
          "output_type": "display_data",
          "data": {
            "image/png": "[encoded data removed]",
            "text/plain": [
              "<Figure size 1080x576 with 1 Axes>"
            ]
          },
          "metadata": {
            "tags": [],
            "needs_background": "light"
          }
        }
      ]
    },
    {
      "cell_type": "markdown",
      "metadata": {
        "id": "lTxveq-9Gh5D"
      },
      "source": [
        "#### Gráfico por região"
      ]
    },
    {
      "cell_type": "code",
      "metadata": {
        "id": "x2BhqT17Gjkh",
        "colab": {
          "base_uri": "https://localhost:8080/",
          "height": 541
        },
        "outputId": "f69a1a1e-df71-4865-cc9f-11bbdc67ea92"
      },
      "source": [
        "plt.figure(figsize=(15,8))\n",
        "fig = sns.barplot(data=dados_regiao_detec2, ci=None)\n",
        "\n",
        "fig.set_title('Taxa de detecção por região', fontsize=20)    \n",
        "fig.legend(title='',fontsize=14)\n",
        "plt.xlabel('Região',fontsize=16)\n",
        "plt.ylabel('')\n",
        "\n",
        "plt.show()\n",
        "\n",
        "# Exportando imagem do gráfico\n",
        "# fig.savefig('tx_detec_hepat_c_regiao_2018_2020_barra.tiff', bbox_inches='tight', dpi=600)"
      ],
      "execution_count": null,
      "outputs": [
        {
          "output_type": "stream",
          "text": [
            "No handles with labels found to put in legend.\n"
          ],
          "name": "stderr"
        },
        {
          "output_type": "display_data",
          "data": {
            "image/png": "[encoded data removed]",
            "text/plain": [
              "<Figure size 1080x576 with 1 Axes>"
            ]
          },
          "metadata": {
            "tags": [],
            "needs_background": "light"
          }
        }
      ]
    },
    {
      "cell_type": "code",
      "metadata": {
        "id": "ZUBAUDmJHTm6",
        "colab": {
          "base_uri": "https://localhost:8080/",
          "height": 519
        },
        "outputId": "9e6b0b76-fb79-4d01-9b9a-5e7eb3d3ac33"
      },
      "source": [
        "plt.figure(figsize=(15,8))\n",
        "fig = sns.lineplot(data=dados_regiao_detec2)\n",
        "\n",
        "fig.set_title('Casos Hepatite C por Região', fontsize=14)    \n",
        "fig.legend(title='',fontsize=14, loc='upper left')\n",
        "plt.xlabel('Percentage',fontsize=15)\n",
        "plt.ylabel('')\n",
        "plt.show()\n",
        "\n",
        "# Exportando imagem do gráfico\n",
        "# fig.savefig('tx_detec_hepat_c_regiao_2018_2020_linha.tiff', bbox_inches='tight', dpi=600)"
      ],
      "execution_count": null,
      "outputs": [
        {
          "output_type": "display_data",
          "data": {
            "image/png": "[encoded data removed]",
            "text/plain": [
              "<Figure size 1080x576 with 1 Axes>"
            ]
          },
          "metadata": {
            "tags": [],
            "needs_background": "light"
          }
        }
      ]
    },
    {
      "cell_type": "markdown",
      "metadata": {
        "id": "tK_whUrkGJ4b"
      },
      "source": [
        "#### Gráfico por estado"
      ]
    },
    {
      "cell_type": "code",
      "metadata": {
        "id": "bj3bPkDdexHG"
      },
      "source": [
        "arr = np.array([[dados_estados_detec_sumar.iloc[0].local, \"2018\", float(dados_estados_detec_sumar.iloc[0].taxa_deteccao_hep_c_2018)],\n",
        "                [dados_estados_detec_sumar.iloc[0].local, \"2019\",float(dados_estados_detec_sumar.iloc[0].taxa_deteccao_hep_c_2019)],\n",
        "                [dados_estados_detec_sumar.iloc[0].local, \"2020\",float(dados_estados_detec_sumar.iloc[0].taxa_deteccao_hep_c_2020)]])              \n",
        "\n",
        "for i in range(len(dados_estados_sumar)):\n",
        "  if i > 0:\n",
        "    arr1 = np.array([[dados_estados_detec_sumar.iloc[i].local, \"2018\", dados_estados_detec_sumar.iloc[i].taxa_deteccao_hep_c_2018],\n",
        "                     [dados_estados_detec_sumar.iloc[i].local, \"2019\",dados_estados_detec_sumar.iloc[i].taxa_deteccao_hep_c_2019],\n",
        "                     [dados_estados_detec_sumar.iloc[i].local, \"2020\",dados_estados_detec_sumar.iloc[i].taxa_deteccao_hep_c_2020]])\n",
        "    arr = np.concatenate((arr,arr1),axis=0)\n",
        "\n",
        "  \n",
        "df_estados_detec_sum = pd.DataFrame(arr) \n",
        "novas_colunas = ['estado', 'ano', 'valor']\n",
        "df_estados_detec_sum.columns = novas_colunas\n",
        "\n",
        "df_estados_detec_sum['valor'] = df_estados_detec_sum['valor'].astype(float, errors = 'raise')"
      ],
      "execution_count": null,
      "outputs": []
    },
    {
      "cell_type": "code",
      "metadata": {
        "colab": {
          "base_uri": "https://localhost:8080/",
          "height": 518
        },
        "id": "uCKWXdvT1Fme",
        "outputId": "1c80c19b-9131-4063-d93f-fd8ae8e06a6a"
      },
      "source": [
        "plt.figure(figsize=(15,8))\n",
        "fig = sns.barplot(x=\"valor\", y=\"estado\", hue=\"ano\", data=df_estados_detec_sum)\n",
        "fig.set_title('Taxa de detecção nos Estados de 2018 a 2020', fontsize=20)    \n",
        "plt.show()"
      ],
      "execution_count": null,
      "outputs": [
        {
          "output_type": "display_data",
          "data": {
            "image/png": "[encoded data removed]",
            "text/plain": [
              "<Figure size 1080x576 with 1 Axes>"
            ]
          },
          "metadata": {
            "tags": [],
            "needs_background": "light"
          }
        }
      ]
    },
    {
      "cell_type": "code",
      "metadata": {
        "colab": {
          "base_uri": "https://localhost:8080/",
          "height": 591
        },
        "id": "AMJ9eqaFfxVb",
        "outputId": "ecd4cc2e-f007-4ecc-dee7-76c7381caf5c"
      },
      "source": [
        "plt.figure(figsize=(15,8))\n",
        "fig = sns.barplot(x='estado',y='valor',data=df_estados_detec_sum,hue='ano', orient=\"v\")\n",
        "fig.set_title('Taxa de detecção nos Estados de 2018 a 2020', fontsize=24)    \n",
        "plt.xticks(rotation=45)\n",
        "plt.show()"
      ],
      "execution_count": null,
      "outputs": [
        {
          "output_type": "display_data",
          "data": {
            "image/png": "[encoded data removed]",
            "text/plain": [
              "<Figure size 1080x576 with 1 Axes>"
            ]
          },
          "metadata": {
            "tags": [],
            "needs_background": "light"
          }
        }
      ]
    }
  ]
}